{
  "nbformat": 4,
  "nbformat_minor": 0,
  "metadata": {
    "celltoolbar": "Slideshow",
    "kernelspec": {
      "display_name": "Python 3",
      "language": "python",
      "name": "python3"
    },
    "language_info": {
      "codemirror_mode": {
        "name": "ipython",
        "version": 3
      },
      "file_extension": ".py",
      "mimetype": "text/x-python",
      "name": "python",
      "nbconvert_exporter": "python",
      "pygments_lexer": "ipython3",
      "version": "3.6.7"
    },
    "rise": {
      "autolaunch": true
    },
    "toc": {
      "base_numbering": 1,
      "nav_menu": {},
      "number_sections": true,
      "sideBar": true,
      "skip_h1_title": false,
      "title_cell": "Table of Contents",
      "title_sidebar": "Contents",
      "toc_cell": false,
      "toc_position": {},
      "toc_section_display": true,
      "toc_window_display": false
    },
    "colab": {
      "name": "Python Bootcamp Day 1 (Solutions)",
      "provenance": [],
      "collapsed_sections": [
        "xl2sshrm1piR",
        "r1YuXhCy1pim",
        "ykSgDpcu1piq",
        "anzcM8o01pjI"
      ],
      "include_colab_link": true
    }
  },
  "cells": [
    {
      "cell_type": "markdown",
      "metadata": {
        "id": "view-in-github",
        "colab_type": "text"
      },
      "source": [
        "<a href=\"https://colab.research.google.com/github/arwalokhandwala/python-bootcamp/blob/main/day01(solutions).ipynb\" target=\"_parent\"><img src=\"https://colab.research.google.com/assets/colab-badge.svg\" alt=\"Open In Colab\"/></a>"
      ]
    },
    {
      "cell_type": "markdown",
      "metadata": {
        "id": "YQhUpO1t1pfj"
      },
      "source": [
        "# I. Functions\n",
        "\n",
        "#### _Doing things..._\n",
        "\n"
      ]
    },
    {
      "cell_type": "markdown",
      "metadata": {
        "id": "pmKCs6SF1pfq"
      },
      "source": [
        "### A FUNCTION EXECUTES TASKS\n",
        "\n",
        "1. Many functions are already written in the Python standard library or in 3rd party libraries\n",
        "2. Executing functions is extremely common when writing code, so it’s important to understand how to do so\n",
        "3. When we executing a function we say we *CALL* the function\n"
      ]
    },
    {
      "cell_type": "code",
      "metadata": {
        "id": "P2tjH-HN1pfy"
      },
      "source": [
        "print('Hello World')"
      ],
      "execution_count": null,
      "outputs": []
    },
    {
      "cell_type": "markdown",
      "metadata": {
        "id": "NP9228h71pf_"
      },
      "source": [
        "### SOME FUNCTIONS RETURN VALUES\n",
        "\n",
        "1. Some function can **RETURN** a value\n",
        "2. This value is typically what we expected the function to compute\n",
        "\n",
        "Let's try the function `pow`, which can compute powers. For instance, 2 at the power of 2 should return 4"
      ]
    },
    {
      "cell_type": "markdown",
      "metadata": {
        "id": "I4zPPg9l1pgC"
      },
      "source": [
        "pow(2, 2)"
      ]
    },
    {
      "cell_type": "markdown",
      "metadata": {
        "id": "iuq5vHJ41pgK"
      },
      "source": [
        "## Functions: Exercises\n",
        "\n",
        "1. Use the `print` function to write your name\n",
        "2. Use the `pow` function to compute the cube of 3"
      ]
    },
    {
      "cell_type": "code",
      "metadata": {
        "id": "VzqB5bh81pgN"
      },
      "source": [
        "## Exercise code goes here\n",
        "\n",
        "\n",
        "##"
      ],
      "execution_count": null,
      "outputs": []
    },
    {
      "cell_type": "markdown",
      "metadata": {
        "id": "fd2TzJZgKm9x"
      },
      "source": [
        "### Solution"
      ]
    },
    {
      "cell_type": "code",
      "metadata": {
        "colab": {
          "base_uri": "https://localhost:8080/"
        },
        "id": "fTwQZKfNKlrb",
        "outputId": "22d51330-5c70-4529-8658-46686eac0cb1"
      },
      "source": [
        "# 1. Use the print function to write your name\n",
        "print(\"Arwa Lokhandwala\")\n",
        "\n",
        "# 2. Use the pow function to compute the cube of 3\n",
        "pow(3,3)"
      ],
      "execution_count": 7,
      "outputs": [
        {
          "output_type": "stream",
          "text": [
            "Arwa Lokhandwala\n"
          ],
          "name": "stdout"
        },
        {
          "output_type": "execute_result",
          "data": {
            "text/plain": [
              "27"
            ]
          },
          "metadata": {
            "tags": []
          },
          "execution_count": 7
        }
      ]
    },
    {
      "cell_type": "markdown",
      "metadata": {
        "id": "_fKWfi6K9Rba"
      },
      "source": [
        "### Other common in-built methods/functions are are\n",
        "\n",
        "\n",
        "*   **abs(number)** - returns absolute value of passed argument\n",
        "*   **len(argument)** - length of the argument\n",
        "*   **string.lower()** - Converts the string into lowercase\n",
        "\n",
        "\n",
        "\n"
      ]
    },
    {
      "cell_type": "markdown",
      "metadata": {
        "id": "KXhNTTGV1pgb"
      },
      "source": [
        "# II. DataTypes & Variables\n",
        "\n",
        "_The building blocks of programs_\n",
        "\n",
        "### 1. Simple Datatypes\n",
        "### 2. Variables\n",
        "### 3. Collection Datatypes\n",
        "\n"
      ]
    },
    {
      "cell_type": "markdown",
      "metadata": {
        "id": "3SdDOPC91pgc"
      },
      "source": [
        "## II.A Simple Datatypes\n",
        "\n",
        "When we try to calculate the power of a number, we can't give text - computing the power of a piece of text has meaning.\n",
        "\n",
        "That's why each **argument** has a DataType, which defines the kind of data that our argument represents. \n",
        "\n",
        "Using the correct DataType is important, else we get errors, as below:"
      ]
    },
    {
      "cell_type": "code",
      "metadata": {
        "id": "UNa3GRRC1pge",
        "colab": {
          "base_uri": "https://localhost:8080/",
          "height": 179
        },
        "outputId": "8132bb03-2289-4cdc-ba26-9dce8793b070"
      },
      "source": [
        "# Computers are stupid and can't understand that two represent the number 2\n",
        "pow('two', 'two')"
      ],
      "execution_count": null,
      "outputs": [
        {
          "output_type": "error",
          "ename": "TypeError",
          "evalue": "ignored",
          "traceback": [
            "\u001b[0;31m---------------------------------------------------------------------------\u001b[0m",
            "\u001b[0;31mTypeError\u001b[0m                                 Traceback (most recent call last)",
            "\u001b[0;32m<ipython-input-4-20b2d0ab8978>\u001b[0m in \u001b[0;36m<module>\u001b[0;34m()\u001b[0m\n\u001b[1;32m      1\u001b[0m \u001b[0;31m# Computers are stupid and can't understand that two represent the number 2\u001b[0m\u001b[0;34m\u001b[0m\u001b[0;34m\u001b[0m\u001b[0;34m\u001b[0m\u001b[0m\n\u001b[0;32m----> 2\u001b[0;31m \u001b[0mpow\u001b[0m\u001b[0;34m(\u001b[0m\u001b[0;34m'two'\u001b[0m\u001b[0;34m,\u001b[0m \u001b[0;34m'two'\u001b[0m\u001b[0;34m)\u001b[0m\u001b[0;34m\u001b[0m\u001b[0;34m\u001b[0m\u001b[0m\n\u001b[0m",
            "\u001b[0;31mTypeError\u001b[0m: unsupported operand type(s) for ** or pow(): 'str' and 'str'"
          ]
        }
      ]
    },
    {
      "cell_type": "markdown",
      "metadata": {
        "id": "OklYyAXL1pgk"
      },
      "source": [
        "### Simple Data Types [Main]\n",
        "\n",
        "So far we've seen two data types: numbers and text. \n",
        "\n",
        "Other common types are float (decimal numbers) and boolean.\n"
      ]
    },
    {
      "cell_type": "markdown",
      "metadata": {
        "id": "Q8FHUr1G1pgn"
      },
      "source": [
        "## II.B Variables\n",
        "\n",
        "### Concept\n",
        "\n",
        " - Variables are like *memory*, they allow our program to remember some information for later use. \n",
        " - Variables in python are written in **snake_case**\n",
        "\n",
        "    "
      ]
    },
    {
      "cell_type": "markdown",
      "metadata": {
        "id": "ZupS3R_X1pgr"
      },
      "source": [
        ""
      ]
    },
    {
      "cell_type": "markdown",
      "metadata": {
        "id": "fPMDRViK1pgt"
      },
      "source": [
        "### Examples of creating and using variables"
      ]
    },
    {
      "cell_type": "code",
      "metadata": {
        "id": "8n_DOzhw1pgu",
        "outputId": "d4b45513-ea30-4277-8730-beb6cd963bd2"
      },
      "source": [
        "# We assign the VALUE 'Hello World' to the variable message. The data type of message will be str (String)\n",
        "message = 'Hello World'  \n",
        "# We pass our variable message to the `print` function\n",
        "print(message) "
      ],
      "execution_count": null,
      "outputs": [
        {
          "output_type": "stream",
          "text": [
            "Hello World\n"
          ],
          "name": "stdout"
        }
      ]
    },
    {
      "cell_type": "code",
      "metadata": {
        "id": "_PkefWIL1pg7"
      },
      "source": [
        "# Some other examples\n",
        "\n",
        "pie = 3.1415 # defining a float\n",
        "python_is_easy = True # defining a boolean\n",
        "power = 3 # defining an int"
      ],
      "execution_count": null,
      "outputs": []
    },
    {
      "cell_type": "markdown",
      "metadata": {
        "id": "kZZ8Xe81AhdW"
      },
      "source": [
        "You can check the type of variable with **type(variable)** function"
      ]
    },
    {
      "cell_type": "code",
      "metadata": {
        "id": "BrQc44XjAqhg",
        "colab": {
          "base_uri": "https://localhost:8080/"
        },
        "outputId": "580291b4-7203-443a-b676-93e85d4585e4"
      },
      "source": [
        "type(pie)"
      ],
      "execution_count": null,
      "outputs": [
        {
          "output_type": "execute_result",
          "data": {
            "text/plain": [
              "float"
            ]
          },
          "metadata": {
            "tags": []
          },
          "execution_count": 18
        }
      ]
    },
    {
      "cell_type": "markdown",
      "metadata": {
        "id": "fmiIvk28_9R_"
      },
      "source": [
        "\n",
        "#### You can also use Operators + Variables to combine data\n",
        "\n",
        "*   +,  -, *, / (add, subtract, multiply, divide)\n",
        "*   +=, -=, etc ( perform operation and save result)\n",
        "\n",
        "\n",
        "*   //, % (quotient, remainder (modulus))\n",
        "*  \\>, <, ==, !=, <=, >= (greater than, less than, equal, not equal, etc)\n"
      ]
    },
    {
      "cell_type": "code",
      "metadata": {
        "id": "zW7qNly3AChN",
        "colab": {
          "base_uri": "https://localhost:8080/"
        },
        "outputId": "e89bc975-a057-4869-b464-53422d6e7eaa"
      },
      "source": [
        "a=10\n",
        "a+=2\n",
        "print(a)"
      ],
      "execution_count": null,
      "outputs": [
        {
          "output_type": "stream",
          "text": [
            "12\n"
          ],
          "name": "stdout"
        }
      ]
    },
    {
      "cell_type": "markdown",
      "metadata": {
        "id": "5NtqfQpJ1phB"
      },
      "source": [
        "### Simple Datatypes & Variables: Exercises\n",
        "\n",
        "1. Create two variables with numbers. Use the `pow` function to get a power of a integer.\n",
        "2. Create a variable with a boolean. Print it. What happens ?\n",
        "3. Print the type of all the variables created (Hint: type())"
      ]
    },
    {
      "cell_type": "code",
      "metadata": {
        "id": "IVofqIgZ1phD"
      },
      "source": [
        "## Exercise code goes here\n",
        "\n",
        "\n",
        "##"
      ],
      "execution_count": null,
      "outputs": []
    },
    {
      "cell_type": "markdown",
      "metadata": {
        "id": "p8X4phH7XSEc"
      },
      "source": [
        ""
      ]
    },
    {
      "cell_type": "code",
      "metadata": {
        "id": "3dU_tF5X_7aj"
      },
      "source": [
        ""
      ],
      "execution_count": null,
      "outputs": []
    },
    {
      "cell_type": "markdown",
      "metadata": {
        "id": "wzL6JZF4J1gH"
      },
      "source": [
        "### Solution\n"
      ]
    },
    {
      "cell_type": "code",
      "metadata": {
        "colab": {
          "base_uri": "https://localhost:8080/"
        },
        "id": "c-Czbex6J4hZ",
        "outputId": "2e5b3083-fccb-4faf-af1e-1a0e82b8760a"
      },
      "source": [
        "# 1 Create two variables with numbers. Use the pow function to get a power of a integer.\n",
        "\n",
        "n1 = 2\n",
        "n2 = 5\n",
        "result = pow(n1, n2)\n",
        "print(result)"
      ],
      "execution_count": 3,
      "outputs": [
        {
          "output_type": "stream",
          "text": [
            "32\n"
          ],
          "name": "stdout"
        }
      ]
    },
    {
      "cell_type": "code",
      "metadata": {
        "colab": {
          "base_uri": "https://localhost:8080/"
        },
        "id": "T8ntMjAdKCD4",
        "outputId": "335cebd8-79b8-4039-e8a3-d4a01bca53d4"
      },
      "source": [
        "# 2. Create a variable with a boolean. Print it. What happens ? \n",
        "am_i_true = False\n",
        "print(am_i_true)\n",
        "##"
      ],
      "execution_count": 4,
      "outputs": [
        {
          "output_type": "stream",
          "text": [
            "False\n"
          ],
          "name": "stdout"
        }
      ]
    },
    {
      "cell_type": "code",
      "metadata": {
        "colab": {
          "base_uri": "https://localhost:8080/"
        },
        "id": "YLRSEy4FKGeg",
        "outputId": "ce7fe55b-4aa8-4e5d-b762-15aabaf93dc5"
      },
      "source": [
        "# 3. Print the type of all the variables created\n",
        "print(type(n1))\n",
        "print(type(n2))\n",
        "print(type(result))\n",
        "print(type(am_i_true))"
      ],
      "execution_count": 5,
      "outputs": [
        {
          "output_type": "stream",
          "text": [
            "<class 'int'>\n",
            "<class 'int'>\n",
            "<class 'int'>\n",
            "<class 'bool'>\n"
          ],
          "name": "stdout"
        }
      ]
    },
    {
      "cell_type": "markdown",
      "metadata": {
        "id": "1xJitDzE1phU"
      },
      "source": [
        "## II.C Collections Datatypes [Main]\n",
        "\n",
        "Some datatypes allow to hold several values. They're incredible useful to _organize_ the information in your code.\n",
        "The most used are `list` and `dict`\n",
        "\n",
        "### List \n",
        "\n",
        "1. Syntax: written with **square brackets** around the items or elements. We use comma between each element\n"
      ]
    },
    {
      "cell_type": "code",
      "metadata": {
        "id": "CLI-7_Gv1phV",
        "outputId": "849d2916-4da3-48ef-fd8e-e908b508fc1d"
      },
      "source": [
        "[1, 2]"
      ],
      "execution_count": null,
      "outputs": [
        {
          "output_type": "execute_result",
          "data": {
            "text/plain": [
              "[1, 2]"
            ]
          },
          "metadata": {
            "tags": []
          },
          "execution_count": 9
        }
      ]
    },
    {
      "cell_type": "markdown",
      "metadata": {
        "id": "ebPDQHZ91pha"
      },
      "source": [
        "#### Each item in the list can be accessed by it's **index**. \n",
        "\n",
        "To access an element by index, we\n",
        "use square brackets (again). \n",
        "\n",
        "The **index** STARTS AT ZERO !!!\n"
      ]
    },
    {
      "cell_type": "code",
      "metadata": {
        "id": "aZQQUp9_1phc",
        "outputId": "06410723-e91d-4e65-de31-f19effd222b8"
      },
      "source": [
        "# defining a list with 3 integers\n",
        "three_numbers = [1, 2, 3]\n",
        "# getting the number at index 1 \n",
        "three_numbers[1]\n"
      ],
      "execution_count": null,
      "outputs": [
        {
          "output_type": "execute_result",
          "data": {
            "text/plain": [
              "2"
            ]
          },
          "metadata": {
            "tags": []
          },
          "execution_count": 2
        }
      ]
    },
    {
      "cell_type": "code",
      "metadata": {
        "id": "v3elswQ61phh",
        "outputId": "bb05db66-8a74-4dc0-97e9-cbbe0b13e49a"
      },
      "source": [
        "three_numbers[:1]"
      ],
      "execution_count": null,
      "outputs": [
        {
          "output_type": "execute_result",
          "data": {
            "text/plain": [
              "[1]"
            ]
          },
          "metadata": {
            "tags": []
          },
          "execution_count": 7
        }
      ]
    },
    {
      "cell_type": "code",
      "metadata": {
        "id": "wu8dNWkx1phl",
        "outputId": "87af151e-ee51-464a-9e07-24a5153c25f1"
      },
      "source": [
        "three_numbers[1:]"
      ],
      "execution_count": null,
      "outputs": [
        {
          "output_type": "execute_result",
          "data": {
            "text/plain": [
              "[2, 3]"
            ]
          },
          "metadata": {
            "tags": []
          },
          "execution_count": 6
        }
      ]
    },
    {
      "cell_type": "markdown",
      "metadata": {
        "id": "b8uzQeX91php"
      },
      "source": [
        "#### Adding Items\n",
        "\n",
        "we can add items to an existing list with the `.append` **method**\n",
        "\n",
        "NOTE: A **method** is a function that is applied on an existing object.\n"
      ]
    },
    {
      "cell_type": "code",
      "metadata": {
        "id": "hSzDvLGq1phr",
        "colab": {
          "base_uri": "https://localhost:8080/"
        },
        "outputId": "44ff92af-e112-43e4-a0f0-6445c750d59b"
      },
      "source": [
        "three_numbers = [1, 2, 3]\n",
        "three_numbers.append(4)\n",
        "print(three_numbers)"
      ],
      "execution_count": null,
      "outputs": [
        {
          "output_type": "stream",
          "text": [
            "[1, 2, 3, 4]\n"
          ],
          "name": "stdout"
        }
      ]
    },
    {
      "cell_type": "markdown",
      "metadata": {
        "id": "1XRZ4N9N1phw"
      },
      "source": [
        "#### Changing items\n",
        "\n",
        "changing items is made by assigning a value to an item of the list"
      ]
    },
    {
      "cell_type": "code",
      "metadata": {
        "id": "_rklxVgf1phx",
        "outputId": "08dacb95-b126-478e-9560-90dd6c1067d8"
      },
      "source": [
        "three_numbers[1] = 999\n",
        "print(three_numbers)"
      ],
      "execution_count": null,
      "outputs": [
        {
          "output_type": "stream",
          "text": [
            "[1, 999, 3, 4]\n"
          ],
          "name": "stdout"
        }
      ]
    },
    {
      "cell_type": "markdown",
      "metadata": {
        "id": "aYUMsGeLBKxy"
      },
      "source": [
        "#### Removing items\n",
        "we can remove item from an existing list with the `.remove` **method**\n",
        "\n",
        "NOTE: \n",
        "* `.remove` method removes the first occurence of value in the list\n",
        "* if the value is not present it throws an error\n",
        "\n",
        "\n"
      ]
    },
    {
      "cell_type": "code",
      "metadata": {
        "id": "qbJnCk9dBjeE",
        "colab": {
          "base_uri": "https://localhost:8080/"
        },
        "outputId": "78b3f50e-f0bb-4594-e6a8-f8f3aa3450ca"
      },
      "source": [
        "three_numbers.remove(3)\n",
        "three_numbers"
      ],
      "execution_count": null,
      "outputs": [
        {
          "output_type": "execute_result",
          "data": {
            "text/plain": [
              "[1, 2, 4]"
            ]
          },
          "metadata": {
            "tags": []
          },
          "execution_count": 23
        }
      ]
    },
    {
      "cell_type": "markdown",
      "metadata": {
        "id": "zxYjWuPD1ph1"
      },
      "source": [
        "### Checking membership\n",
        "\n",
        "We can use the `in` keyword to check if a value is present in a list"
      ]
    },
    {
      "cell_type": "code",
      "metadata": {
        "id": "FVdvsWTg1ph2",
        "outputId": "97bb4224-1722-4507-cbc5-f3652e61923c"
      },
      "source": [
        "# is the number 1 present in a list with 1, 2 and 3\n",
        "1 in [1, 2, 3]"
      ],
      "execution_count": null,
      "outputs": [
        {
          "output_type": "execute_result",
          "data": {
            "text/plain": [
              "True"
            ]
          },
          "metadata": {
            "tags": []
          },
          "execution_count": 13
        }
      ]
    },
    {
      "cell_type": "code",
      "metadata": {
        "id": "tpfOLF7V1ph5",
        "outputId": "bc7546d5-914e-4859-cf9b-db4a8b91e581"
      },
      "source": [
        "# also works with variables\n",
        "a_new_list = [1, 2, 3, 4]\n",
        "number_to_check = 2\n",
        "# is the value of the variable `number_to_check` present in the variable a_new_list\n",
        "number_to_check in a_new_list"
      ],
      "execution_count": null,
      "outputs": [
        {
          "output_type": "execute_result",
          "data": {
            "text/plain": [
              "True"
            ]
          },
          "metadata": {
            "tags": []
          },
          "execution_count": 14
        }
      ]
    },
    {
      "cell_type": "markdown",
      "metadata": {
        "id": "dnaaZeOMCmoI"
      },
      "source": [
        "### Slicing \n",
        "\n",
        "* Used to access a subset of elements within a list\n",
        "\n",
        "`my_list[start:end:step]`\n",
        "\n",
        "* `end` index is not included"
      ]
    },
    {
      "cell_type": "code",
      "metadata": {
        "id": "oYEl23OeDJ8T",
        "colab": {
          "base_uri": "https://localhost:8080/"
        },
        "outputId": "a5af3b0f-6a41-4a24-9895-574bedfbebd2"
      },
      "source": [
        "numbers=[0,1,2,3,4,5,6,7,8,9,10]\n",
        "\n",
        "# Subset of list from index 0-4\n",
        "numbers[0:5]\n",
        "\n",
        "# start from index 0 till index 8\n",
        "numbers[:9]\n",
        "\n",
        "# get every alternate numbers using step_size\n",
        "numbers[::2]\n"
      ],
      "execution_count": null,
      "outputs": [
        {
          "output_type": "execute_result",
          "data": {
            "text/plain": [
              "[0, 2, 4, 6, 8, 10]"
            ]
          },
          "metadata": {
            "tags": []
          },
          "execution_count": 26
        }
      ]
    },
    {
      "cell_type": "markdown",
      "metadata": {
        "id": "6Q_kpGBU1ph-"
      },
      "source": [
        "### List Datatypes - Exercises\n",
        "\n",
        "- Create a list of strings, with at least 6 elements\n",
        "- The list should include your name\n",
        "- Append 2 new elements in that list\n",
        "- print your name\n",
        "- Change your name to another value\n",
        "- remove one of the names\n",
        "- Get every 3rd element (Hint: step_size)\n",
        "- Get the first 2 values in the list (Hint: Slicing)"
      ]
    },
    {
      "cell_type": "code",
      "metadata": {
        "id": "6C3Jlssv1ph_"
      },
      "source": [
        "## Exercise Code Goes Here\n",
        "\n",
        "\n",
        "##"
      ],
      "execution_count": null,
      "outputs": []
    },
    {
      "cell_type": "markdown",
      "metadata": {
        "id": "b1v9HcLMI6kZ"
      },
      "source": [
        "### Solutions\n",
        "\n"
      ]
    },
    {
      "cell_type": "code",
      "metadata": {
        "colab": {
          "base_uri": "https://localhost:8080/"
        },
        "id": "d4ulY1NXI-hC",
        "outputId": "317e206f-f107-40c5-a345-0c20d3bf0cc8"
      },
      "source": [
        "# Create a list of strings, with at least 6 elements\n",
        "new_list = [\"arwa\", \"class\", \"python\",\"bootcamp\",\"day\",\"one\"]\n",
        "\n",
        "# Append 2 new elements in that list\n",
        "new_list.append('saturday')\n",
        "last_item ='bob'\n",
        "new_list.append(last_item)\n",
        "\n",
        "# print your name\n",
        "print(new_list[0])\n",
        "\n",
        "# Change your name to another value\n",
        "new_list[0] = 'george'\n",
        "\n",
        "# remove one of the names\n",
        "new_list.remove('class')\n",
        "\n",
        "# Get every 3rd element\n",
        "print(new_list[::3])\n",
        "\n",
        "# Get the first 2 values in the list\n",
        "print(new_list[:2])\n"
      ],
      "execution_count": 8,
      "outputs": [
        {
          "output_type": "stream",
          "text": [
            "arwa\n",
            "['george', 'day', 'bob']\n",
            "['george', 'python']\n"
          ],
          "name": "stdout"
        }
      ]
    },
    {
      "cell_type": "markdown",
      "metadata": {
        "id": "fnm1e-Ym1piG"
      },
      "source": [
        "### Tuples\n",
        "\n",
        "* Tuples are very similar to `lists`, except that they *can not be modified after they have been created*\n",
        "\n",
        "* **NO** append() or remove()\n",
        "\n",
        "* Slicing works the same way `tuple[start:end:step_size]`\n",
        "\n",
        "* Tuples are commonly used as the *return types of functions*"
      ]
    },
    {
      "cell_type": "code",
      "metadata": {
        "id": "w4UyAVMm1piH",
        "colab": {
          "base_uri": "https://localhost:8080/",
          "height": 179
        },
        "outputId": "c8a24a55-84ad-4927-b6c8-bec14fd151d3"
      },
      "source": [
        "three_numbers_tuple = (1, 2, 3)\n",
        "three_numbers_tuple[1] = 1"
      ],
      "execution_count": 9,
      "outputs": [
        {
          "output_type": "error",
          "ename": "TypeError",
          "evalue": "ignored",
          "traceback": [
            "\u001b[0;31m---------------------------------------------------------------------------\u001b[0m",
            "\u001b[0;31mTypeError\u001b[0m                                 Traceback (most recent call last)",
            "\u001b[0;32m<ipython-input-9-96cff86ad77e>\u001b[0m in \u001b[0;36m<module>\u001b[0;34m()\u001b[0m\n\u001b[1;32m      1\u001b[0m \u001b[0mthree_numbers_tuple\u001b[0m \u001b[0;34m=\u001b[0m \u001b[0;34m(\u001b[0m\u001b[0;36m1\u001b[0m\u001b[0;34m,\u001b[0m \u001b[0;36m2\u001b[0m\u001b[0;34m,\u001b[0m \u001b[0;36m3\u001b[0m\u001b[0;34m)\u001b[0m\u001b[0;34m\u001b[0m\u001b[0;34m\u001b[0m\u001b[0m\n\u001b[0;32m----> 2\u001b[0;31m \u001b[0mthree_numbers_tuple\u001b[0m\u001b[0;34m[\u001b[0m\u001b[0;36m1\u001b[0m\u001b[0;34m]\u001b[0m \u001b[0;34m=\u001b[0m \u001b[0;36m1\u001b[0m\u001b[0;34m\u001b[0m\u001b[0;34m\u001b[0m\u001b[0m\n\u001b[0m",
            "\u001b[0;31mTypeError\u001b[0m: 'tuple' object does not support item assignment"
          ]
        }
      ]
    },
    {
      "cell_type": "markdown",
      "metadata": {
        "id": "iNz-Vq-D1piL"
      },
      "source": [
        "### Dictionaries [dict]\n",
        "\n",
        "Dictionnaries are a very natural way to organize information. "
      ]
    },
    {
      "cell_type": "code",
      "metadata": {
        "id": "7IZcAgkW1piN"
      },
      "source": [
        "# a dictionnary describing a person\n",
        "person = {\"name\": \"bob\", \"city\": \"new york\"}"
      ],
      "execution_count": null,
      "outputs": []
    },
    {
      "cell_type": "markdown",
      "metadata": {
        "id": "xl2sshrm1piR"
      },
      "source": [
        "#### Accessing data from dictionnaries\n",
        "\n",
        "1. Each pair is called a \"Key Value\" pair\n",
        "2. For example, `\"name\"` is a Key, and `\"bob\"` is a Value\n",
        "3. Most of the time, the keys are string (it's not required, but think twice)\n",
        "4. Dictionnaries allow us to **GET** values by using one of the **KEYS**\n"
      ]
    },
    {
      "cell_type": "markdown",
      "metadata": {
        "id": "vJVd-nuL1piS"
      },
      "source": [
        "### Accessing Dictionnary Values"
      ]
    },
    {
      "cell_type": "code",
      "metadata": {
        "id": "FiLIRC8G1piU",
        "outputId": "510d4cbc-82ab-49dd-bfd1-e07885e51f07"
      },
      "source": [
        "# getting the key 'meal' from the dict lunch\n",
        "person['name']"
      ],
      "execution_count": null,
      "outputs": [
        {
          "output_type": "execute_result",
          "data": {
            "text/plain": [
              "'bob'"
            ]
          },
          "metadata": {
            "tags": []
          },
          "execution_count": 8
        }
      ]
    },
    {
      "cell_type": "code",
      "metadata": {
        "id": "eQSBNAwr1piX",
        "outputId": "7b142120-3805-4eae-ad0c-e0d8e83ce754"
      },
      "source": [
        "# the key must exist\n",
        "person['dob']"
      ],
      "execution_count": null,
      "outputs": [
        {
          "output_type": "error",
          "ename": "NameError",
          "evalue": "name 'person' is not defined",
          "traceback": [
            "\u001b[0;31m---------------------------------------------------------------------------\u001b[0m",
            "\u001b[0;31mNameError\u001b[0m                                 Traceback (most recent call last)",
            "\u001b[0;32m<ipython-input-19-d591407babac>\u001b[0m in \u001b[0;36m<module>\u001b[0;34m\u001b[0m\n\u001b[1;32m      1\u001b[0m \u001b[0;31m# the key must exist\u001b[0m\u001b[0;34m\u001b[0m\u001b[0;34m\u001b[0m\u001b[0;34m\u001b[0m\u001b[0m\n\u001b[0;32m----> 2\u001b[0;31m \u001b[0mperson\u001b[0m\u001b[0;34m[\u001b[0m\u001b[0;34m'dob'\u001b[0m\u001b[0;34m]\u001b[0m\u001b[0;34m\u001b[0m\u001b[0;34m\u001b[0m\u001b[0m\n\u001b[0m",
            "\u001b[0;31mNameError\u001b[0m: name 'person' is not defined"
          ]
        }
      ]
    },
    {
      "cell_type": "markdown",
      "metadata": {
        "id": "THVcNgUz1pia"
      },
      "source": [
        "### Updating a value in a dictionnary\n",
        "\n",
        "We just **ASSIGN** a value to a **KEY** of the dictionnary"
      ]
    },
    {
      "cell_type": "code",
      "metadata": {
        "id": "oq03Hsnz1pia",
        "colab": {
          "base_uri": "https://localhost:8080/"
        },
        "outputId": "68e7d206-d015-484e-bbf5-3ee8e65517e5"
      },
      "source": [
        "print(\"Let's create a dict representing a person\")\n",
        "person = {'name': 'bob', 'city': 'new york'}\n",
        "print(person)\n",
        "\n",
        "print(\"Well, bob actually lives in Chicago, let's update our dict\")\n",
        "# we ASSIGN the VALUE chicago to the KEY `city` in the dictionnary `person`\n",
        "person['city'] = 'chicago'\n",
        "print(person)"
      ],
      "execution_count": null,
      "outputs": [
        {
          "output_type": "stream",
          "text": [
            "Let's create a dict representing a person\n",
            "{'name': 'bob', 'city': 'new york'}\n",
            "Well, bob actually lives in Chicago, let's update our dict\n",
            "{'name': 'bob', 'city': 'chicago'}\n"
          ],
          "name": "stdout"
        }
      ]
    },
    {
      "cell_type": "code",
      "metadata": {
        "id": "stCxTHXy1pie",
        "colab": {
          "base_uri": "https://localhost:8080/"
        },
        "outputId": "8152d09e-875e-4db8-e2e5-c14a844468df"
      },
      "source": [
        "city_value = person.pop('city')\n",
        "print(person)"
      ],
      "execution_count": null,
      "outputs": [
        {
          "output_type": "stream",
          "text": [
            "{'name': 'bob'}\n"
          ],
          "name": "stdout"
        }
      ]
    },
    {
      "cell_type": "code",
      "metadata": {
        "id": "AoDqU2Ay1pii",
        "outputId": "5263ca81-2202-47a1-f5d7-5a2f200be966"
      },
      "source": [
        "person['town'] = city_value\n",
        "person"
      ],
      "execution_count": null,
      "outputs": [
        {
          "output_type": "execute_result",
          "data": {
            "text/plain": [
              "{'name': 'bob', 'town': 'chicago'}"
            ]
          },
          "metadata": {
            "tags": []
          },
          "execution_count": 17
        }
      ]
    },
    {
      "cell_type": "markdown",
      "metadata": {
        "id": "r1YuXhCy1pim"
      },
      "source": [
        "### Dict Datatypes - Exercises\n",
        "\n",
        "#### Create a `dict` with at least 3 key-value pairs. \n",
        "    - Representing a person, with one key being \"name\"\n",
        "    - Try to access one of the keys. Try to change the value of one of the keys.\n",
        "    - Add the dict to a list\n",
        "    - Create another dictionnary with the same keys, but a different value for the \"name\"\n",
        "    - Add the second dictionnary to the same list\n",
        "    - print the list"
      ]
    },
    {
      "cell_type": "code",
      "metadata": {
        "id": "cIV_-RnG1pin"
      },
      "source": [
        "## Exercise code goes here\n",
        "\n",
        "\n",
        "\n",
        "#\n"
      ],
      "execution_count": null,
      "outputs": []
    },
    {
      "cell_type": "markdown",
      "metadata": {
        "id": "ykSgDpcu1piq"
      },
      "source": [
        "### Solution"
      ]
    },
    {
      "cell_type": "code",
      "metadata": {
        "id": "7b0IayZX1pis",
        "outputId": "c044242d-fff1-4cba-f167-cc9081b43761"
      },
      "source": [
        "person1 = {'name': 'bob', 'city': 'new york', 'continent': 'north america'}\n",
        "print(person1)                # Access one of the keys. \n",
        "person1['name'] = 'lawrence'  # Change the value of one of the keys.\n",
        "print(person1)                 # Checking the change\n",
        "list_persons = [person1]      # Add the dictionnary to a list\n",
        "\n",
        "person2 = {'name': 'margaux', 'city': 'new york', 'continent': 'north america'}\n",
        "list_persons.append(person2)\n",
        "print('Printing List of Dictionnaries')\n",
        "print(list_persons)"
      ],
      "execution_count": null,
      "outputs": [
        {
          "output_type": "stream",
          "text": [
            "{'name': 'bob', 'city': 'new york', 'continent': 'north america'}\n",
            "{'name': 'lawrence', 'city': 'new york', 'continent': 'north america'}\n",
            "Printing List of Dictionnaries\n",
            "[{'name': 'lawrence', 'city': 'new york', 'continent': 'north america'}, {'name': 'margaux', 'city': 'new york', 'continent': 'north america'}]\n"
          ],
          "name": "stdout"
        }
      ]
    },
    {
      "cell_type": "markdown",
      "metadata": {
        "id": "iTha8VZf1piv"
      },
      "source": [
        "![Critical%20Knowledge@2x.png](attachment:Critical%20Knowledge@2x.png)"
      ]
    },
    {
      "cell_type": "markdown",
      "metadata": {
        "id": "FwQ86JFH1piv"
      },
      "source": [
        "# 3. Import\n",
        "\n",
        "With `import` we can import python **MODULES** and reuse code created by others"
      ]
    },
    {
      "cell_type": "code",
      "metadata": {
        "id": "QrkzW_Fp1piw",
        "colab": {
          "base_uri": "https://localhost:8080/"
        },
        "outputId": "a57a508d-21c2-4e0c-8410-92c0e640fb70"
      },
      "source": [
        "# let's use the standard library `datetime` module to print today's date\n",
        "import datetime\n",
        "print(datetime.datetime.today())\n"
      ],
      "execution_count": null,
      "outputs": [
        {
          "output_type": "stream",
          "text": [
            "2021-01-28 20:43:39.681437\n"
          ],
          "name": "stdout"
        }
      ]
    },
    {
      "cell_type": "code",
      "metadata": {
        "colab": {
          "base_uri": "https://localhost:8080/",
          "height": 35
        },
        "id": "Mul3WfbuvNNt",
        "outputId": "0234e7fb-c670-43ed-9b8e-3a0e671a0126"
      },
      "source": [
        "from datetime import date\n",
        "\n",
        "date.today().strftime('Hey you were born on %dth of %B in the year %Y')"
      ],
      "execution_count": null,
      "outputs": [
        {
          "output_type": "execute_result",
          "data": {
            "application/vnd.google.colaboratory.intrinsic+json": {
              "type": "string"
            },
            "text/plain": [
              "'Hey you were born on 28th of January in the year 2021'"
            ]
          },
          "metadata": {
            "tags": []
          },
          "execution_count": 35
        }
      ]
    },
    {
      "cell_type": "code",
      "metadata": {
        "id": "DFJmKeRY1piz",
        "outputId": "82401c2f-07e5-4bd5-ea7e-2ca04064e7d4"
      },
      "source": [
        "# if an import fails, we have to install the package with pip\n",
        "# in the notebook, we have to run pip with a leading !\n",
        "!pip install requests\n",
        "import requests"
      ],
      "execution_count": null,
      "outputs": [
        {
          "output_type": "stream",
          "text": [
            "Requirement already satisfied: requests in /Users/nicolasparis/.pyenv/versions/3.6.7/envs/jupyter/lib/python3.6/site-packages (2.22.0)\n",
            "Requirement already satisfied: idna<2.9,>=2.5 in /Users/nicolasparis/.pyenv/versions/3.6.7/envs/jupyter/lib/python3.6/site-packages (from requests) (2.8)\n",
            "Requirement already satisfied: certifi>=2017.4.17 in /Users/nicolasparis/.pyenv/versions/3.6.7/envs/jupyter/lib/python3.6/site-packages (from requests) (2019.6.16)\n",
            "Requirement already satisfied: chardet<3.1.0,>=3.0.2 in /Users/nicolasparis/.pyenv/versions/3.6.7/envs/jupyter/lib/python3.6/site-packages (from requests) (3.0.4)\n",
            "Requirement already satisfied: urllib3!=1.25.0,!=1.25.1,<1.26,>=1.21.1 in /Users/nicolasparis/.pyenv/versions/3.6.7/envs/jupyter/lib/python3.6/site-packages (from requests) (1.25.3)\n",
            "\u001b[33mWARNING: You are using pip version 19.2.1, however version 19.2.3 is available.\n",
            "You should consider upgrading via the 'pip install --upgrade pip' command.\u001b[0m\n"
          ],
          "name": "stdout"
        }
      ]
    },
    {
      "cell_type": "markdown",
      "metadata": {
        "id": "ZHwTOigE1pi1"
      },
      "source": [
        "### Project Number 1 - Exploring a public api\n",
        "\n",
        "Practical project time !\n",
        "\n",
        "Let's query a public API from the singapore government and explore the results"
      ]
    },
    {
      "cell_type": "code",
      "metadata": {
        "id": "j4idthDm1pi3",
        "colab": {
          "base_uri": "https://localhost:8080/"
        },
        "outputId": "534395bd-2b19-4fc2-f46f-676e05d51b4d"
      },
      "source": [
        "# importing requests, a popular package to interact with APIs\n",
        "import requests\n",
        "# defining a variable with the URL we want to query\n",
        "url = 'https://api.data.gov.sg/v1/environment/air-temperature'\n",
        "# using the requests module `get` function to query the api. it returns a response\n",
        "resp = requests.get(url)\n",
        "print(resp)"
      ],
      "execution_count": null,
      "outputs": [
        {
          "output_type": "stream",
          "text": [
            "<Response [200]>\n"
          ],
          "name": "stdout"
        }
      ]
    },
    {
      "cell_type": "markdown",
      "metadata": {
        "id": "Ua472i8b1pi7"
      },
      "source": [
        "### Let's have a look at the data"
      ]
    },
    {
      "cell_type": "code",
      "metadata": {
        "id": "bWcmq4Wk1pi7",
        "colab": {
          "base_uri": "https://localhost:8080/"
        },
        "outputId": "3a622de0-d359-4a36-b547-8b5c395a5dbe"
      },
      "source": [
        "# to access the data, we execute the `json` method on the response. \n",
        "data = resp.json()\n",
        "data.keys()"
      ],
      "execution_count": null,
      "outputs": [
        {
          "output_type": "execute_result",
          "data": {
            "text/plain": [
              "dict_keys(['metadata', 'items', 'api_info'])"
            ]
          },
          "metadata": {
            "tags": []
          },
          "execution_count": 89
        }
      ]
    },
    {
      "cell_type": "code",
      "metadata": {
        "id": "xmj1uWZh1pi_",
        "colab": {
          "base_uri": "https://localhost:8080/"
        },
        "outputId": "4f74cc30-8d2a-41a9-c0bf-de1915501fc6"
      },
      "source": [
        "data.keys()"
      ],
      "execution_count": null,
      "outputs": [
        {
          "output_type": "execute_result",
          "data": {
            "text/plain": [
              "dict_keys(['metadata', 'items', 'api_info'])"
            ]
          },
          "metadata": {
            "tags": []
          },
          "execution_count": 73
        }
      ]
    },
    {
      "cell_type": "markdown",
      "metadata": {
        "id": "rAbAgqjC1pjD"
      },
      "source": [
        "## EXERCISE\n",
        "\n",
        "1. Extract the api_info / status value (ie: healthy)\n",
        "2. Extract the reading for one station_id \n",
        "\n",
        "HINTS:\n",
        "1. Dictionnaries have a `.keys()` method that shows all the keys of the dict\n",
        "2. `lists` don't have the `keys()` method"
      ]
    },
    {
      "cell_type": "code",
      "metadata": {
        "id": "e7NJV3Y71pjE"
      },
      "source": [
        "## Exercise code goes here\n",
        "\n",
        "##"
      ],
      "execution_count": null,
      "outputs": []
    },
    {
      "cell_type": "markdown",
      "metadata": {
        "id": "anzcM8o01pjI"
      },
      "source": [
        "### Solutions"
      ]
    },
    {
      "cell_type": "code",
      "metadata": {
        "id": "BLH7e1KE1pjJ",
        "outputId": "6615a2b2-86b9-4b04-cc41-a290801649db"
      },
      "source": [
        "\n",
        "## Extract the api_info / status value (ie: healthy)\n",
        "data['api_info']['status']  # data['api_info'] is a dict, so we can directly access its \"status\" key"
      ],
      "execution_count": null,
      "outputs": [
        {
          "output_type": "execute_result",
          "data": {
            "text/plain": [
              "'healthy'"
            ]
          },
          "metadata": {
            "tags": []
          },
          "execution_count": 27
        }
      ]
    },
    {
      "cell_type": "code",
      "metadata": {
        "id": "2KwNfRKt1pjL",
        "outputId": "1621807c-abf9-4048-e006-c70858a44a15"
      },
      "source": [
        "# Checking the type of data['api_info']\n",
        "type(data['api_info'])"
      ],
      "execution_count": null,
      "outputs": [
        {
          "output_type": "execute_result",
          "data": {
            "text/plain": [
              "dict"
            ]
          },
          "metadata": {
            "tags": []
          },
          "execution_count": 28
        }
      ]
    },
    {
      "cell_type": "code",
      "metadata": {
        "id": "ro4eWZ8Q1pjP",
        "outputId": "9d68b194-5ce6-4d8f-b39e-f07874ab5db3"
      },
      "source": [
        "## Solution 2\n",
        "# Extract the reading for one station_id \n",
        "data['items'][0]['readings'][7]['value']"
      ],
      "execution_count": null,
      "outputs": [
        {
          "output_type": "execute_result",
          "data": {
            "text/plain": [
              "27.4"
            ]
          },
          "metadata": {
            "tags": []
          },
          "execution_count": 31
        }
      ]
    },
    {
      "cell_type": "markdown",
      "metadata": {
        "id": "zi56bGly1pjS"
      },
      "source": [
        "## Remember that we can infer the datatype of a variable by looking at the first character of the output value\n",
        "- `'` or `\"`: str / string\n",
        "- `[` (square bracket) means a list\n",
        "- `{` (curly bracket) means a dict\n",
        "- a number means a int or a float"
      ]
    },
    {
      "cell_type": "markdown",
      "metadata": {
        "id": "ijooWEdo1pjT"
      },
      "source": [
        "### We need to learn more...\n",
        "\n",
        "With what we've learned so far, we have no reliable way to find the value for a specific station from this api.\n",
        "That's because the list of readings can *change over time*. The order is not guaranteed, and some stations may not be there every time we query.\n",
        "\n",
        "To do so, we're going to have to learn two new concepts:\n",
        "1. **Loops** - to be able to perform a check on each element of the readings list\n",
        "2. **If** - to be able to act only when we find the station_id of interest"
      ]
    },
    {
      "cell_type": "code",
      "metadata": {
        "colab": {
          "base_uri": "https://localhost:8080/"
        },
        "id": "Ifhci2NO5tMg",
        "outputId": "afa43a81-5245-439c-d91e-1e511ee8eb89"
      },
      "source": [
        "## NEW\n",
        "list(map(lambda x: x['station_id'], data['items'][0]['readings']))"
      ],
      "execution_count": null,
      "outputs": [
        {
          "output_type": "execute_result",
          "data": {
            "text/plain": [
              "['S107', 'S43', 'S108', 'S44', 'S106', 'S111', 'S116', 'S100']"
            ]
          },
          "metadata": {
            "tags": []
          },
          "execution_count": 87
        }
      ]
    },
    {
      "cell_type": "markdown",
      "metadata": {
        "id": "OPoInwBM1pjT"
      },
      "source": [
        "# 4. If\n",
        "\n",
        "#### Conditional Execution\n",
        "\n",
        "With `if`, we can control what code to execute depending on conditions the we define."
      ]
    },
    {
      "cell_type": "markdown",
      "metadata": {
        "id": "x2RAKspC1pjV"
      },
      "source": [
        "### A simple example"
      ]
    },
    {
      "cell_type": "code",
      "metadata": {
        "id": "HTnYVf401pjV",
        "colab": {
          "base_uri": "https://localhost:8080/"
        },
        "outputId": "876a5b75-142f-46e6-8b0c-e2273cce73c4"
      },
      "source": [
        "# let's do some logic based on the health status of the API\n",
        "api_info = data['api_info']['status']\n",
        "print(api_info)"
      ],
      "execution_count": null,
      "outputs": [
        {
          "output_type": "stream",
          "text": [
            "healthy\n"
          ],
          "name": "stdout"
        }
      ]
    },
    {
      "cell_type": "code",
      "metadata": {
        "id": "8PfsanHZ1pjY",
        "colab": {
          "base_uri": "https://localhost:8080/"
        },
        "outputId": "54821922-ce67-465e-bd86-5ba45a3f723c"
      },
      "source": [
        "# If it's healthy, print a nice message\n",
        "if api_info == 'healthy':  # if this evaluates as True, then the indented block is run\n",
        "    print('The API is healthy') # all the indented lines are part of the if block"
      ],
      "execution_count": null,
      "outputs": [
        {
          "output_type": "stream",
          "text": [
            "The API is healthy\n"
          ],
          "name": "stdout"
        }
      ]
    },
    {
      "cell_type": "markdown",
      "metadata": {
        "id": "tdFQ6FSF1pja"
      },
      "source": [
        "### Adding an else clause\n",
        "\n",
        "The else clause helps us plan for *unforeseen cases* "
      ]
    },
    {
      "cell_type": "code",
      "metadata": {
        "id": "j62Fd8S-1pjc",
        "outputId": "c5e8849c-7089-4d8f-bab0-4a1496c14520"
      },
      "source": [
        "# we can plan a behaviour in case our condition evaluates to False\n",
        "\n",
        "if api_info == 'healthy':  # if this evaluates to True, the if block will run. The else block will not run.\n",
        "    print('The API is healthy')\n",
        "else:   # when the if block evaluates to False, this block will run\n",
        "    print('The API is down')"
      ],
      "execution_count": null,
      "outputs": [
        {
          "output_type": "stream",
          "text": [
            "The API is healthy\n"
          ],
          "name": "stdout"
        }
      ]
    },
    {
      "cell_type": "markdown",
      "metadata": {
        "id": "Y1qW8BB81pjf"
      },
      "source": [
        "### Complete if / elif / else syntax"
      ]
    },
    {
      "cell_type": "code",
      "metadata": {
        "id": "78TDpFEa1pjf",
        "outputId": "fb4f4abf-a120-4448-abd2-bb01c65dc931"
      },
      "source": [
        "# We can check several conditions\n",
        "\n",
        "if api_info == 'healthy':  # if this evaluates to True, the if block will run. No other block will run. \n",
        "                           # No other condition will be evaluated\n",
        "    print('The API is healthy')\n",
        "elif api_info == 'down': # if this evaluates to True, the elif block below will run. No block below will run. \n",
        "    print('The API is down')\n",
        "else:  # If no condition above evaluates to true, this will run\n",
        "    print('Unknown API status')\n"
      ],
      "execution_count": null,
      "outputs": [
        {
          "output_type": "stream",
          "text": [
            "The API is healthy\n"
          ],
          "name": "stdout"
        }
      ]
    },
    {
      "cell_type": "markdown",
      "metadata": {
        "id": "t0zeAvvn1pji"
      },
      "source": [
        "# 5. Loops\n",
        "\n",
        "#### Performing actions on all elements of a collection\n",
        "\n",
        "1. Loops allow to perform actions many times\n",
        "2. We can loop over lists, dict or any **ITERABLE** object\n",
        "3. There are two types of loops: the `for` loop and the `while` loop. The for loop is much more common, we'll focus on this one today"
      ]
    },
    {
      "cell_type": "code",
      "metadata": {
        "id": "tiJ5AJsQ1pjj",
        "outputId": "0599a89e-c50f-4e6a-91b8-b00c5252a958"
      },
      "source": [
        "# basic syntax\n",
        "for i in [7, 6, 5]:\n",
        "    print(i)"
      ],
      "execution_count": null,
      "outputs": [
        {
          "output_type": "stream",
          "text": [
            "7\n",
            "6\n",
            "5\n"
          ],
          "name": "stdout"
        }
      ]
    },
    {
      "cell_type": "markdown",
      "metadata": {
        "id": "dwCUN9ZF1pjm"
      },
      "source": [
        "#### Breaking Loops"
      ]
    },
    {
      "cell_type": "code",
      "metadata": {
        "id": "ozCcVfRD1pjn",
        "colab": {
          "base_uri": "https://localhost:8080/"
        },
        "outputId": "c254fc2c-3a23-4523-b604-b8b0174c0f48"
      },
      "source": [
        "# we can stop a loop based on a condition\n",
        "for i in [1, 2, 3]:\n",
        "    if i is 2:\n",
        "        break\n",
        "    print(i)"
      ],
      "execution_count": null,
      "outputs": [
        {
          "output_type": "stream",
          "text": [
            "1 ---\n",
            "1\n",
            "2\n"
          ],
          "name": "stdout"
        }
      ]
    },
    {
      "cell_type": "markdown",
      "metadata": {
        "id": "fEHF9OkK1pjr"
      },
      "source": [
        "### Project Number 2 - Using a public api\n",
        "\n",
        "Let's continue the exploration we started !\n",
        "\n",
        "With a combination of IF and LOOP we can now reliably find the value of station S122"
      ]
    },
    {
      "cell_type": "markdown",
      "metadata": {
        "id": "-53smGrH1pjt"
      },
      "source": [
        "We now want to:\n",
        "1. **ITERATE** (ie: loop) over each element of our `readings_list`\n",
        "2. check if `station_id` is equal to S122.\n",
        "3. if yes, get the `value`\n",
        "\n",
        "Let's do this !"
      ]
    },
    {
      "cell_type": "code",
      "metadata": {
        "id": "c-98ey_SpV60"
      },
      "source": [
        ""
      ],
      "execution_count": null,
      "outputs": []
    },
    {
      "cell_type": "code",
      "metadata": {
        "id": "j8zUDahwpWHT"
      },
      "source": [
        ""
      ],
      "execution_count": null,
      "outputs": []
    },
    {
      "cell_type": "markdown",
      "metadata": {
        "id": "8lFiIiP_pgfZ"
      },
      "source": [
        "## Solution"
      ]
    },
    {
      "cell_type": "code",
      "metadata": {
        "id": "Ep2oocZV1pju"
      },
      "source": [
        "all_readings = data['items'][0]['readings']"
      ],
      "execution_count": null,
      "outputs": []
    },
    {
      "cell_type": "code",
      "metadata": {
        "id": "Leia-wKq1pj5",
        "colab": {
          "base_uri": "https://localhost:8080/"
        },
        "outputId": "bc4769c0-ffe1-4f96-a9ba-af7912097679"
      },
      "source": [
        "# exploring the loop. this allows us to check how one element of the list loops like\n",
        "for elem in all_readings: # looping over readings_list\n",
        "    print(elem)"
      ],
      "execution_count": null,
      "outputs": [
        {
          "output_type": "stream",
          "text": [
            "{'station_id': 'S107', 'value': 25.1}\n",
            "{'station_id': 'S43', 'value': 25.4}\n",
            "{'station_id': 'S108', 'value': 25.4}\n",
            "{'station_id': 'S44', 'value': 23.5}\n",
            "{'station_id': 'S106', 'value': 24.1}\n",
            "{'station_id': 'S111', 'value': 24.3}\n",
            "{'station_id': 'S116', 'value': 24.9}\n",
            "{'station_id': 'S100', 'value': 24.8}\n"
          ],
          "name": "stdout"
        }
      ]
    },
    {
      "cell_type": "code",
      "metadata": {
        "id": "TjFWYbO51pj7",
        "outputId": "8deaa0ec-8d50-477c-a624-bdfffe2dc71b"
      },
      "source": [
        "\n",
        "\n",
        "print('START OF LOOP')    # the print statements allow us to know where we are in the loop\n",
        "for elem in all_readings:\n",
        "    print(elem)\n",
        "    print(elem['station_id'])\n",
        "    if elem['station_id'] == 'S111':\n",
        "        print('found S111')\n",
        "        print(elem['value'])\n",
        "    print('END OF ITERATION')\n",
        "    \n",
        "print('END OF LOOP')    "
      ],
      "execution_count": null,
      "outputs": [
        {
          "output_type": "stream",
          "text": [
            "START OF LOOP\n",
            "{'station_id': 'S117', 'value': 28.2}\n",
            "S117\n",
            "END OF ITERATION\n",
            "{'station_id': 'S50', 'value': 27.6}\n",
            "S50\n",
            "END OF ITERATION\n",
            "{'station_id': 'S107', 'value': 27.6}\n",
            "S107\n",
            "END OF ITERATION\n",
            "{'station_id': 'S43', 'value': 27.5}\n",
            "S43\n",
            "END OF ITERATION\n",
            "{'station_id': 'S44', 'value': 27.3}\n",
            "S44\n",
            "END OF ITERATION\n",
            "{'station_id': 'S121', 'value': 28.1}\n",
            "S121\n",
            "END OF ITERATION\n",
            "{'station_id': 'S106', 'value': 27.5}\n",
            "S106\n",
            "END OF ITERATION\n",
            "{'station_id': 'S111', 'value': 27.4}\n",
            "S111\n",
            "found S111\n",
            "27.4\n",
            "END OF ITERATION\n",
            "{'station_id': 'S60', 'value': 28.4}\n",
            "S60\n",
            "END OF ITERATION\n",
            "{'station_id': 'S115', 'value': 27}\n",
            "S115\n",
            "END OF ITERATION\n",
            "{'station_id': 'S24', 'value': 27.8}\n",
            "S24\n",
            "END OF ITERATION\n",
            "{'station_id': 'S116', 'value': 27.6}\n",
            "S116\n",
            "END OF ITERATION\n",
            "{'station_id': 'S104', 'value': 27.3}\n",
            "S104\n",
            "END OF ITERATION\n",
            "{'station_id': 'S100', 'value': 28.1}\n",
            "S100\n",
            "END OF ITERATION\n",
            "END OF LOOP\n"
          ],
          "name": "stdout"
        }
      ]
    },
    {
      "cell_type": "code",
      "metadata": {
        "id": "W3g7G5oC1pj9",
        "outputId": "91de177e-19ea-41c0-c894-0fb6720f8ad7"
      },
      "source": [
        "#  the same loop, but without the print statements\n",
        "all_readings = data['items'][0]['readings']\n",
        "   \n",
        "for station_data in all_readings:\n",
        "    if station_data['station_id'] == 'S111':\n",
        "        print(station_data['value'])\n",
        " "
      ],
      "execution_count": null,
      "outputs": [
        {
          "output_type": "stream",
          "text": [
            "27.4\n"
          ],
          "name": "stdout"
        }
      ]
    },
    {
      "cell_type": "markdown",
      "metadata": {
        "id": "oOlg5Qzc1pj_"
      },
      "source": [
        "### EXERCISE\n",
        "\n",
        "1. Use a variable for the station_id. If the station_id does not exist, write a message informing the user\n",
        "2. find the station_id of each station where the value is above 30.5\n",
        "3. [harder] find the station_id of each station where the value is above the *station average*. You'll have to compute the station average with code."
      ]
    },
    {
      "cell_type": "code",
      "metadata": {
        "id": "8HjLXvaq1pkA"
      },
      "source": [
        "## EXERCISE CODE GOES HERE\n",
        "\n",
        "\n",
        "\n",
        "\n",
        "\n",
        "\n",
        "##"
      ],
      "execution_count": null,
      "outputs": []
    },
    {
      "cell_type": "markdown",
      "metadata": {
        "id": "yQRMhCAT1pkC"
      },
      "source": [
        "### Solutions"
      ]
    },
    {
      "cell_type": "code",
      "metadata": {
        "id": "fNA6RGEP1pkE",
        "outputId": "bfdd032c-f8e1-4a7c-bd3c-2d2ff0602cd5"
      },
      "source": [
        "## SOLUTION EXERCISE 1\n",
        "# Use a variable for the station_id. If the station_id does not exist, write a message informing the user\n",
        "all_readings = data['items'][0]['readings']\n",
        "   \n",
        "station_id = 'XX'    \n",
        "found_station = False\n",
        "for station_data in all_readings:\n",
        "    if station_data['station_id'] == station_id:\n",
        "        print(station_data['value'])\n",
        "        found_station = True\n",
        "\n",
        "if found_station is False:\n",
        "    print(f'could not find station_id {station_id}')\n",
        " "
      ],
      "execution_count": null,
      "outputs": [
        {
          "output_type": "stream",
          "text": [
            "could not find station_id XX\n"
          ],
          "name": "stdout"
        }
      ]
    },
    {
      "cell_type": "code",
      "metadata": {
        "id": "pd3IbHbj1pkG"
      },
      "source": [
        "## SOLUTION EXERCISE 2\n",
        "# Find the station_id of each station where the value is above 30.5\n",
        "all_readings = data['items'][0]['readings']\n",
        "   \n",
        "temperature = 30.5\n",
        "for station_data in all_readings:\n",
        "    if station_data['value'] > temperature:\n",
        "        print(station_data['station_id'])\n",
        "        "
      ],
      "execution_count": null,
      "outputs": []
    },
    {
      "cell_type": "code",
      "metadata": {
        "id": "fFl6IjdJ1pkI",
        "outputId": "620a900c-ea4d-4333-9d7c-c76edb3b22f1"
      },
      "source": [
        "## SOLUTION EXERCISE 3\n",
        "## [harder] find the station_id of each station where the value is above the station average. \n",
        "## You'll have to compute the station average with code.\n",
        "\n",
        "list_temps = []\n",
        "for station_data in all_readings:\n",
        "    value = station_data['value']\n",
        "    list_temps.append(value)\n",
        "\n",
        "temperature = sum(list_temps) / len(list_temps)\n",
        "# print(temperature)\n",
        "\n",
        "for station_data in all_readings:\n",
        "    if station_data['value'] > temperature:\n",
        "        print(station_data['station_id'])\n",
        "        # print(station_data['value'])\n",
        "        "
      ],
      "execution_count": null,
      "outputs": [
        {
          "output_type": "stream",
          "text": [
            "S117\n",
            "S121\n",
            "S60\n",
            "S24\n",
            "S100\n"
          ],
          "name": "stdout"
        }
      ]
    },
    {
      "cell_type": "markdown",
      "metadata": {
        "id": "ZJyuw2ww1pkL"
      },
      "source": [
        "# 6. Functions (defining)\n",
        "\n",
        "Defining our own functions allows us to reuse our code. \n",
        "\n",
        "It's an essential tool to write good code (and to not become crazy !)\n",
        "\n",
        "Here's the basic syntax:\n"
      ]
    },
    {
      "cell_type": "code",
      "metadata": {
        "id": "gEykEg_n1pkL",
        "outputId": "bde557bc-5064-4733-b1ac-e0a82197becd"
      },
      "source": [
        "\n",
        "def add_two(a, b):  # a and b are called \"arguments\". They behave like variables in the function\n",
        "    print(a + b)    # the indented code gets executed each time the function is called\n",
        "    \n",
        "add_two(1, 2)"
      ],
      "execution_count": null,
      "outputs": [
        {
          "output_type": "stream",
          "text": [
            "3\n"
          ],
          "name": "stdout"
        }
      ]
    },
    {
      "cell_type": "code",
      "metadata": {
        "id": "WFjd8ScE1pkN",
        "outputId": "b132f339-ce2d-4e1a-d89a-4aa078bccfa0"
      },
      "source": [
        "# We can also call the function with variables\n",
        "bob=1\n",
        "albert=2\n",
        "add_two(a=bob, b=albert)"
      ],
      "execution_count": null,
      "outputs": [
        {
          "output_type": "stream",
          "text": [
            "3\n"
          ],
          "name": "stdout"
        }
      ]
    },
    {
      "cell_type": "markdown",
      "metadata": {
        "id": "dH00N12r1pkR"
      },
      "source": [
        "A function typically **RETURNS** a value. \n",
        "\n",
        "To use the return value, we can assign it to a variable\n",
        "\n",
        "Note that the `return` keyword stops the execution of the function (ie: code written after return is typically not executed)"
      ]
    },
    {
      "cell_type": "code",
      "metadata": {
        "id": "4m8_825Q1pkS",
        "outputId": "3d08170d-181d-49e8-bf3d-6ac7a0a2a804"
      },
      "source": [
        "def add_two_v2(a, b): \n",
        "    return a + b      # returns a value to the caller of the function\n",
        "    print('nooo')     # nothing gets executed after return\n",
        "    \n",
        "\n",
        "number = add_two_v2(3, 4)\n",
        "print('the result is:', number )"
      ],
      "execution_count": null,
      "outputs": [
        {
          "output_type": "stream",
          "text": [
            "the result is: 7\n"
          ],
          "name": "stdout"
        }
      ]
    },
    {
      "cell_type": "markdown",
      "metadata": {
        "id": "K5lVXK_b1pkU"
      },
      "source": [
        "### Using functions\n",
        "\n",
        "Let's create a function to find the value of _any_ station_id, not just S122.\n",
        "\n",
        "First let's create a function that reuses the code we've typed above."
      ]
    },
    {
      "cell_type": "code",
      "metadata": {
        "id": "5CSPtbsc1pkV"
      },
      "source": [
        "def find_value():\n",
        "    all_readings = data['items'][0]['readings']        \n",
        "    for elem in all_readings: # looping over readings_list\n",
        "        if elem['station_id'] == 'S122':\n",
        "            return elem['value']  # changing the print to a return.\n",
        "                                  # we don't need break any longer !\n",
        "        \n",
        "find_value()        "
      ],
      "execution_count": null,
      "outputs": []
    },
    {
      "cell_type": "markdown",
      "metadata": {
        "id": "F82ilvZY1pkX"
      },
      "source": [
        "Now let's adjust the function to have a second argument: the station_id"
      ]
    },
    {
      "cell_type": "code",
      "metadata": {
        "id": "JncwurNY1pkX"
      },
      "source": [
        "def find_value(station_id):\n",
        "    all_readings = data['items'][0]['readings']    \n",
        "    for elem in all_readings: # looping over readings_list\n",
        "        if elem['station_id'] == station_id:\n",
        "            return elem['value']  # changing the print to a return. \n",
        "                                  # we don't need break any longer !\n",
        "        \n",
        "find_value('S122')     "
      ],
      "execution_count": null,
      "outputs": []
    },
    {
      "cell_type": "markdown",
      "metadata": {
        "id": "4QaACEPj1pka"
      },
      "source": [
        "### Functions (defining) - Exercises\n",
        "\n",
        "- What happens if we use a station_id that doesn't exist ? Is that ideal ?\n",
        "- Update the function so that we have a message if we request a station_id that doesn't exist.\n",
        "- Make the message friendly by informing the user of all the existing station_id.\n"
      ]
    },
    {
      "cell_type": "code",
      "metadata": {
        "id": "qO2_0JNL1pkb"
      },
      "source": [
        "# EXERCISE CODE GOES HERE\n",
        "\n",
        "\n",
        "#"
      ],
      "execution_count": null,
      "outputs": []
    },
    {
      "cell_type": "markdown",
      "metadata": {
        "id": "Ip5k4KxV1pkd"
      },
      "source": [
        "### Solution\n",
        "\n",
        "The solution is given as three functions, each adding to the previous one"
      ]
    },
    {
      "cell_type": "code",
      "metadata": {
        "id": "QWMBNT4l1pke",
        "outputId": "ef47bb46-c687-4ea4-ca7f-715c2baef12b"
      },
      "source": [
        "def find_value_v0(station_id):\n",
        "    all_readings = data['items'][0]['readings']\n",
        "\n",
        "    for station_data in all_readings:\n",
        "        if station_data['station_id'] == station_id:\n",
        "            return station_data['value']\n",
        "\n",
        "\n",
        "find_value_v0('S100')"
      ],
      "execution_count": null,
      "outputs": [
        {
          "output_type": "execute_result",
          "data": {
            "text/plain": [
              "28.1"
            ]
          },
          "metadata": {
            "tags": []
          },
          "execution_count": 50
        }
      ]
    },
    {
      "cell_type": "code",
      "metadata": {
        "id": "NcDU5Bzq1pkg",
        "colab": {
          "base_uri": "https://localhost:8080/"
        },
        "outputId": "2b8468e2-d3e2-4cf1-ab9b-8e5947adb625"
      },
      "source": [
        "def find_value_v1(station_id):\n",
        "    all_readings = data['items'][0]['readings']\n",
        "    found_station = False  # new\n",
        "    \n",
        "    for station_data in all_readings:\n",
        "        if station_data['station_id'] == station_id:\n",
        "            found_station = True # new\n",
        "            return station_data['value']\n",
        "\n",
        "    if found_station is False:  # new\n",
        "        print('station id provided not found')  # new\n",
        "\n",
        "find_value_v1('S1')"
      ],
      "execution_count": null,
      "outputs": [
        {
          "output_type": "stream",
          "text": [
            "station id provided not found\n"
          ],
          "name": "stdout"
        }
      ]
    },
    {
      "cell_type": "code",
      "metadata": {
        "id": "Ct5CEpeh1pkj"
      },
      "source": [
        "def find_value_v2(station_id):\n",
        "    all_readings = data['items'][0]['readings']\n",
        "    found_station = False\n",
        "    for station_data in all_readings:\n",
        "        if station_data['station_id'] == station_id:\n",
        "            found_station = True\n",
        "            return station_data['value']\n",
        "            \n",
        "\n",
        "    if found_station is False:\n",
        "        list_station_id = []                   # new\n",
        "        for station_data in all_readings:      # new\n",
        "            value = station_data['station_id'] # new\n",
        "            list_station_id.append(value)      # new\n",
        "\n",
        "        print(f'could not find station_id {station_id}')\n",
        "        print('station_id that we found were:') # new\n",
        "        print(list_station_id)                  # new\n",
        "##"
      ],
      "execution_count": null,
      "outputs": []
    },
    {
      "cell_type": "code",
      "metadata": {
        "id": "7p-UQvDb1pkl",
        "outputId": "2df8b52d-d6d7-479f-df41-10f320ea9011"
      },
      "source": [
        "find_value_v2('S50')"
      ],
      "execution_count": null,
      "outputs": [
        {
          "output_type": "execute_result",
          "data": {
            "text/plain": [
              "27.6"
            ]
          },
          "metadata": {
            "tags": []
          },
          "execution_count": 53
        }
      ]
    },
    {
      "cell_type": "markdown",
      "metadata": {
        "id": "f_AOPeLf1pkq"
      },
      "source": [
        "# 7. Creating a Time Serie and visualizing it\n",
        "\n",
        "A practical application of what we've learned so far.\n",
        "\n",
        "Objectives:\n",
        "1. Get the air temperature data for a day in the past - we'll get per minute data for each station\n",
        "2. Create a `dict` with two key-value pairs: one with the timeserie, one with the data"
      ]
    },
    {
      "cell_type": "code",
      "metadata": {
        "id": "cgzeSJBp1pkq"
      },
      "source": [
        "import requests\n",
        "url = 'https://api.data.gov.sg/v1/environment/air-temperature'\n",
        "# When we query for a specific day in the past, we get per minute data\n",
        "resp = requests.get(url, params={'date' :'2021-01-26'})"
      ],
      "execution_count": 60,
      "outputs": []
    },
    {
      "cell_type": "markdown",
      "metadata": {
        "id": "BSbtcE2C1pks"
      },
      "source": [
        "### Creating the data for our timeserie"
      ]
    },
    {
      "cell_type": "code",
      "metadata": {
        "id": "QqAisr1xP8o9"
      },
      "source": [
        "timeserie = {'timestamp': [], 'value': []}\n",
        "\n",
        "for elem in resp.json()['items']:\n",
        "    for station in elem['readings']:\n",
        "        if station['station_id'] == 'S122':            \n",
        "            timeserie['value'].append(station['value'])\n",
        "            timeserie['timestamp'].append(elem['timestamp'])            \n",
        "            break\n",
        "                  "
      ],
      "execution_count": 30,
      "outputs": []
    },
    {
      "cell_type": "code",
      "metadata": {
        "colab": {
          "base_uri": "https://localhost:8080/"
        },
        "id": "YJYKLC7SO192",
        "outputId": "eb5fed2c-892f-4db1-c5d2-8cb3c673b9ea"
      },
      "source": [
        "from datetime import datetime\n",
        "datetime.strptime(\"2021-01-26T00:01:00+08:00\".split(\"+\")[0],\"%Y-%m-%dT%H:%M:%S\")"
      ],
      "execution_count": 19,
      "outputs": [
        {
          "output_type": "execute_result",
          "data": {
            "text/plain": [
              "datetime.datetime(2021, 1, 26, 0, 1)"
            ]
          },
          "metadata": {
            "tags": []
          },
          "execution_count": 19
        }
      ]
    },
    {
      "cell_type": "code",
      "metadata": {
        "id": "e9i7ApJ91pks"
      },
      "source": [
        "timeserie = {'timestamp': [], 'value': []}\n",
        "\n",
        "for elem in resp.json()['items']:\n",
        "    for station in elem['readings']:\n",
        "        if station['station_id'] == 'S122':            \n",
        "            timeserie['value'].append(station['value'])\n",
        "            timestamp=datetime.strptime(elem[\"timestamp\"].split(\"+\")[0], \"%Y-%m-%dT%H:%M:%S\")\n",
        "            timeserie['timestamp'].append(timestamp)            \n",
        "            break\n",
        "                  "
      ],
      "execution_count": 32,
      "outputs": []
    },
    {
      "cell_type": "code",
      "metadata": {
        "id": "wktSXXbJiyF-"
      },
      "source": [
        ""
      ],
      "execution_count": null,
      "outputs": []
    },
    {
      "cell_type": "markdown",
      "metadata": {
        "id": "6T7UBSz7iERT"
      },
      "source": [
        "### DataFrame\n",
        "\n",
        "Similar to Tables in SQL or Sheets in Excel\n",
        "\n",
        "### Pandas\n",
        "\n",
        "https://pandas.pydata.org/pandas-docs/stable/reference/api/pandas.DataFrame.html\n",
        "\n",
        "Pandas library is used for creating, manipulating and visualizing dataframes"
      ]
    },
    {
      "cell_type": "code",
      "metadata": {
        "id": "YSPAqB2t1pku"
      },
      "source": [
        "import pandas as pd\n",
        "\n",
        "df = pd.DataFrame.from_dict(timeserie)"
      ],
      "execution_count": 35,
      "outputs": []
    },
    {
      "cell_type": "code",
      "metadata": {
        "colab": {
          "base_uri": "https://localhost:8080/",
          "height": 402
        },
        "id": "Rzqf_emvMc5f",
        "outputId": "df6ae183-bb3a-4624-d2a1-62dbfda138cb"
      },
      "source": [
        "df"
      ],
      "execution_count": 36,
      "outputs": [
        {
          "output_type": "execute_result",
          "data": {
            "text/html": [
              "<div>\n",
              "<style scoped>\n",
              "    .dataframe tbody tr th:only-of-type {\n",
              "        vertical-align: middle;\n",
              "    }\n",
              "\n",
              "    .dataframe tbody tr th {\n",
              "        vertical-align: top;\n",
              "    }\n",
              "\n",
              "    .dataframe thead th {\n",
              "        text-align: right;\n",
              "    }\n",
              "</style>\n",
              "<table border=\"1\" class=\"dataframe\">\n",
              "  <thead>\n",
              "    <tr style=\"text-align: right;\">\n",
              "      <th></th>\n",
              "      <th>timestamp</th>\n",
              "      <th>value</th>\n",
              "    </tr>\n",
              "  </thead>\n",
              "  <tbody>\n",
              "    <tr>\n",
              "      <th>0</th>\n",
              "      <td>2021-01-26 00:01:00</td>\n",
              "      <td>25.9</td>\n",
              "    </tr>\n",
              "    <tr>\n",
              "      <th>1</th>\n",
              "      <td>2021-01-26 00:02:00</td>\n",
              "      <td>25.9</td>\n",
              "    </tr>\n",
              "    <tr>\n",
              "      <th>2</th>\n",
              "      <td>2021-01-26 00:03:00</td>\n",
              "      <td>25.9</td>\n",
              "    </tr>\n",
              "    <tr>\n",
              "      <th>3</th>\n",
              "      <td>2021-01-26 00:04:00</td>\n",
              "      <td>25.9</td>\n",
              "    </tr>\n",
              "    <tr>\n",
              "      <th>4</th>\n",
              "      <td>2021-01-26 00:05:00</td>\n",
              "      <td>25.9</td>\n",
              "    </tr>\n",
              "    <tr>\n",
              "      <th>...</th>\n",
              "      <td>...</td>\n",
              "      <td>...</td>\n",
              "    </tr>\n",
              "    <tr>\n",
              "      <th>1403</th>\n",
              "      <td>2021-01-26 23:55:00</td>\n",
              "      <td>25.2</td>\n",
              "    </tr>\n",
              "    <tr>\n",
              "      <th>1404</th>\n",
              "      <td>2021-01-26 23:56:00</td>\n",
              "      <td>25.2</td>\n",
              "    </tr>\n",
              "    <tr>\n",
              "      <th>1405</th>\n",
              "      <td>2021-01-26 23:57:00</td>\n",
              "      <td>25.2</td>\n",
              "    </tr>\n",
              "    <tr>\n",
              "      <th>1406</th>\n",
              "      <td>2021-01-26 23:58:00</td>\n",
              "      <td>25.3</td>\n",
              "    </tr>\n",
              "    <tr>\n",
              "      <th>1407</th>\n",
              "      <td>2021-01-26 23:59:00</td>\n",
              "      <td>25.3</td>\n",
              "    </tr>\n",
              "  </tbody>\n",
              "</table>\n",
              "<p>1408 rows × 2 columns</p>\n",
              "</div>"
            ],
            "text/plain": [
              "               timestamp  value\n",
              "0    2021-01-26 00:01:00   25.9\n",
              "1    2021-01-26 00:02:00   25.9\n",
              "2    2021-01-26 00:03:00   25.9\n",
              "3    2021-01-26 00:04:00   25.9\n",
              "4    2021-01-26 00:05:00   25.9\n",
              "...                  ...    ...\n",
              "1403 2021-01-26 23:55:00   25.2\n",
              "1404 2021-01-26 23:56:00   25.2\n",
              "1405 2021-01-26 23:57:00   25.2\n",
              "1406 2021-01-26 23:58:00   25.3\n",
              "1407 2021-01-26 23:59:00   25.3\n",
              "\n",
              "[1408 rows x 2 columns]"
            ]
          },
          "metadata": {
            "tags": []
          },
          "execution_count": 36
        }
      ]
    },
    {
      "cell_type": "code",
      "metadata": {
        "id": "g2Yrem031pkx",
        "colab": {
          "base_uri": "https://localhost:8080/",
          "height": 394
        },
        "outputId": "031b2262-4c86-468d-fdbe-2cc2663a1cd8"
      },
      "source": [
        "df.set_index('timestamp').plot.line(figsize=(18,6))"
      ],
      "execution_count": 37,
      "outputs": [
        {
          "output_type": "execute_result",
          "data": {
            "text/plain": [
              "<matplotlib.axes._subplots.AxesSubplot at 0x7f353f851fd0>"
            ]
          },
          "metadata": {
            "tags": []
          },
          "execution_count": 37
        },
        {
          "output_type": "display_data",
          "data": {
            "image/png": "[encoded data removed]",
            "text/plain": [
              "<Figure size 1296x432 with 1 Axes>"
            ]
          },
          "metadata": {
            "tags": [],
            "needs_background": "light"
          }
        }
      ]
    },
    {
      "cell_type": "code",
      "metadata": {
        "id": "-jzNcf3Z1pkz",
        "colab": {
          "base_uri": "https://localhost:8080/",
          "height": 796
        },
        "outputId": "225e7959-d657-4bef-9b03-b215caa35935"
      },
      "source": [
        "(pd.DataFrame.from_dict(timeserie)\n",
        "             .plot\n",
        "             .line(figsize=(18, 6), title='STATION S122')\n",
        ") "
      ],
      "execution_count": 27,
      "outputs": [
        {
          "output_type": "execute_result",
          "data": {
            "text/plain": [
              "<matplotlib.axes._subplots.AxesSubplot at 0x7f353f516a20>"
            ]
          },
          "metadata": {
            "tags": []
          },
          "execution_count": 27
        },
        {
          "output_type": "stream",
          "text": [
            "Error in callback <function install_repl_displayhook.<locals>.post_execute at 0x7f3549a07950> (for post_execute):\n"
          ],
          "name": "stdout"
        },
        {
          "output_type": "error",
          "ename": "ValueError",
          "evalue": "ignored",
          "traceback": [
            "\u001b[0;31m---------------------------------------------------------------------------\u001b[0m",
            "\u001b[0;31mValueError\u001b[0m                                Traceback (most recent call last)",
            "\u001b[0;32m/usr/local/lib/python3.6/dist-packages/matplotlib/pyplot.py\u001b[0m in \u001b[0;36mpost_execute\u001b[0;34m()\u001b[0m\n\u001b[1;32m    107\u001b[0m             \u001b[0;32mdef\u001b[0m \u001b[0mpost_execute\u001b[0m\u001b[0;34m(\u001b[0m\u001b[0;34m)\u001b[0m\u001b[0;34m:\u001b[0m\u001b[0;34m\u001b[0m\u001b[0;34m\u001b[0m\u001b[0m\n\u001b[1;32m    108\u001b[0m                 \u001b[0;32mif\u001b[0m \u001b[0mmatplotlib\u001b[0m\u001b[0;34m.\u001b[0m\u001b[0mis_interactive\u001b[0m\u001b[0;34m(\u001b[0m\u001b[0;34m)\u001b[0m\u001b[0;34m:\u001b[0m\u001b[0;34m\u001b[0m\u001b[0;34m\u001b[0m\u001b[0m\n\u001b[0;32m--> 109\u001b[0;31m                     \u001b[0mdraw_all\u001b[0m\u001b[0;34m(\u001b[0m\u001b[0;34m)\u001b[0m\u001b[0;34m\u001b[0m\u001b[0;34m\u001b[0m\u001b[0m\n\u001b[0m\u001b[1;32m    110\u001b[0m \u001b[0;34m\u001b[0m\u001b[0m\n\u001b[1;32m    111\u001b[0m             \u001b[0;31m# IPython >= 2\u001b[0m\u001b[0;34m\u001b[0m\u001b[0;34m\u001b[0m\u001b[0;34m\u001b[0m\u001b[0m\n",
            "\u001b[0;32m/usr/local/lib/python3.6/dist-packages/matplotlib/_pylab_helpers.py\u001b[0m in \u001b[0;36mdraw_all\u001b[0;34m(cls, force)\u001b[0m\n\u001b[1;32m    125\u001b[0m         \u001b[0;32mfor\u001b[0m \u001b[0mf_mgr\u001b[0m \u001b[0;32min\u001b[0m \u001b[0mcls\u001b[0m\u001b[0;34m.\u001b[0m\u001b[0mget_all_fig_managers\u001b[0m\u001b[0;34m(\u001b[0m\u001b[0;34m)\u001b[0m\u001b[0;34m:\u001b[0m\u001b[0;34m\u001b[0m\u001b[0;34m\u001b[0m\u001b[0m\n\u001b[1;32m    126\u001b[0m             \u001b[0;32mif\u001b[0m \u001b[0mforce\u001b[0m \u001b[0;32mor\u001b[0m \u001b[0mf_mgr\u001b[0m\u001b[0;34m.\u001b[0m\u001b[0mcanvas\u001b[0m\u001b[0;34m.\u001b[0m\u001b[0mfigure\u001b[0m\u001b[0;34m.\u001b[0m\u001b[0mstale\u001b[0m\u001b[0;34m:\u001b[0m\u001b[0;34m\u001b[0m\u001b[0;34m\u001b[0m\u001b[0m\n\u001b[0;32m--> 127\u001b[0;31m                 \u001b[0mf_mgr\u001b[0m\u001b[0;34m.\u001b[0m\u001b[0mcanvas\u001b[0m\u001b[0;34m.\u001b[0m\u001b[0mdraw_idle\u001b[0m\u001b[0;34m(\u001b[0m\u001b[0;34m)\u001b[0m\u001b[0;34m\u001b[0m\u001b[0;34m\u001b[0m\u001b[0m\n\u001b[0m\u001b[1;32m    128\u001b[0m \u001b[0;34m\u001b[0m\u001b[0m\n\u001b[1;32m    129\u001b[0m \u001b[0matexit\u001b[0m\u001b[0;34m.\u001b[0m\u001b[0mregister\u001b[0m\u001b[0;34m(\u001b[0m\u001b[0mGcf\u001b[0m\u001b[0;34m.\u001b[0m\u001b[0mdestroy_all\u001b[0m\u001b[0;34m)\u001b[0m\u001b[0;34m\u001b[0m\u001b[0;34m\u001b[0m\u001b[0m\n",
            "\u001b[0;32m/usr/local/lib/python3.6/dist-packages/matplotlib/backend_bases.py\u001b[0m in \u001b[0;36mdraw_idle\u001b[0;34m(self, *args, **kwargs)\u001b[0m\n\u001b[1;32m   1945\u001b[0m         \u001b[0;32mif\u001b[0m \u001b[0;32mnot\u001b[0m \u001b[0mself\u001b[0m\u001b[0;34m.\u001b[0m\u001b[0m_is_idle_drawing\u001b[0m\u001b[0;34m:\u001b[0m\u001b[0;34m\u001b[0m\u001b[0;34m\u001b[0m\u001b[0m\n\u001b[1;32m   1946\u001b[0m             \u001b[0;32mwith\u001b[0m \u001b[0mself\u001b[0m\u001b[0;34m.\u001b[0m\u001b[0m_idle_draw_cntx\u001b[0m\u001b[0;34m(\u001b[0m\u001b[0;34m)\u001b[0m\u001b[0;34m:\u001b[0m\u001b[0;34m\u001b[0m\u001b[0;34m\u001b[0m\u001b[0m\n\u001b[0;32m-> 1947\u001b[0;31m                 \u001b[0mself\u001b[0m\u001b[0;34m.\u001b[0m\u001b[0mdraw\u001b[0m\u001b[0;34m(\u001b[0m\u001b[0;34m*\u001b[0m\u001b[0margs\u001b[0m\u001b[0;34m,\u001b[0m \u001b[0;34m**\u001b[0m\u001b[0mkwargs\u001b[0m\u001b[0;34m)\u001b[0m\u001b[0;34m\u001b[0m\u001b[0;34m\u001b[0m\u001b[0m\n\u001b[0m\u001b[1;32m   1948\u001b[0m \u001b[0;34m\u001b[0m\u001b[0m\n\u001b[1;32m   1949\u001b[0m     \u001b[0;34m@\u001b[0m\u001b[0mcbook\u001b[0m\u001b[0;34m.\u001b[0m\u001b[0mdeprecated\u001b[0m\u001b[0;34m(\u001b[0m\u001b[0;34m\"3.2\"\u001b[0m\u001b[0;34m)\u001b[0m\u001b[0;34m\u001b[0m\u001b[0;34m\u001b[0m\u001b[0m\n",
            "\u001b[0;32m/usr/local/lib/python3.6/dist-packages/matplotlib/backends/backend_agg.py\u001b[0m in \u001b[0;36mdraw\u001b[0;34m(self)\u001b[0m\n\u001b[1;32m    391\u001b[0m              (self.toolbar._wait_cursor_for_draw_cm() if self.toolbar\n\u001b[1;32m    392\u001b[0m               else nullcontext()):\n\u001b[0;32m--> 393\u001b[0;31m             \u001b[0mself\u001b[0m\u001b[0;34m.\u001b[0m\u001b[0mfigure\u001b[0m\u001b[0;34m.\u001b[0m\u001b[0mdraw\u001b[0m\u001b[0;34m(\u001b[0m\u001b[0mself\u001b[0m\u001b[0;34m.\u001b[0m\u001b[0mrenderer\u001b[0m\u001b[0;34m)\u001b[0m\u001b[0;34m\u001b[0m\u001b[0;34m\u001b[0m\u001b[0m\n\u001b[0m\u001b[1;32m    394\u001b[0m             \u001b[0;31m# A GUI class may be need to update a window using this draw, so\u001b[0m\u001b[0;34m\u001b[0m\u001b[0;34m\u001b[0m\u001b[0;34m\u001b[0m\u001b[0m\n\u001b[1;32m    395\u001b[0m             \u001b[0;31m# don't forget to call the superclass.\u001b[0m\u001b[0;34m\u001b[0m\u001b[0;34m\u001b[0m\u001b[0;34m\u001b[0m\u001b[0m\n",
            "\u001b[0;32m/usr/local/lib/python3.6/dist-packages/matplotlib/artist.py\u001b[0m in \u001b[0;36mdraw_wrapper\u001b[0;34m(artist, renderer, *args, **kwargs)\u001b[0m\n\u001b[1;32m     36\u001b[0m                 \u001b[0mrenderer\u001b[0m\u001b[0;34m.\u001b[0m\u001b[0mstart_filter\u001b[0m\u001b[0;34m(\u001b[0m\u001b[0;34m)\u001b[0m\u001b[0;34m\u001b[0m\u001b[0;34m\u001b[0m\u001b[0m\n\u001b[1;32m     37\u001b[0m \u001b[0;34m\u001b[0m\u001b[0m\n\u001b[0;32m---> 38\u001b[0;31m             \u001b[0;32mreturn\u001b[0m \u001b[0mdraw\u001b[0m\u001b[0;34m(\u001b[0m\u001b[0martist\u001b[0m\u001b[0;34m,\u001b[0m \u001b[0mrenderer\u001b[0m\u001b[0;34m,\u001b[0m \u001b[0;34m*\u001b[0m\u001b[0margs\u001b[0m\u001b[0;34m,\u001b[0m \u001b[0;34m**\u001b[0m\u001b[0mkwargs\u001b[0m\u001b[0;34m)\u001b[0m\u001b[0;34m\u001b[0m\u001b[0;34m\u001b[0m\u001b[0m\n\u001b[0m\u001b[1;32m     39\u001b[0m         \u001b[0;32mfinally\u001b[0m\u001b[0;34m:\u001b[0m\u001b[0;34m\u001b[0m\u001b[0;34m\u001b[0m\u001b[0m\n\u001b[1;32m     40\u001b[0m             \u001b[0;32mif\u001b[0m \u001b[0martist\u001b[0m\u001b[0;34m.\u001b[0m\u001b[0mget_agg_filter\u001b[0m\u001b[0;34m(\u001b[0m\u001b[0;34m)\u001b[0m \u001b[0;32mis\u001b[0m \u001b[0;32mnot\u001b[0m \u001b[0;32mNone\u001b[0m\u001b[0;34m:\u001b[0m\u001b[0;34m\u001b[0m\u001b[0;34m\u001b[0m\u001b[0m\n",
            "\u001b[0;32m/usr/local/lib/python3.6/dist-packages/matplotlib/figure.py\u001b[0m in \u001b[0;36mdraw\u001b[0;34m(self, renderer)\u001b[0m\n\u001b[1;32m   1734\u001b[0m             \u001b[0mself\u001b[0m\u001b[0;34m.\u001b[0m\u001b[0mpatch\u001b[0m\u001b[0;34m.\u001b[0m\u001b[0mdraw\u001b[0m\u001b[0;34m(\u001b[0m\u001b[0mrenderer\u001b[0m\u001b[0;34m)\u001b[0m\u001b[0;34m\u001b[0m\u001b[0;34m\u001b[0m\u001b[0m\n\u001b[1;32m   1735\u001b[0m             mimage._draw_list_compositing_images(\n\u001b[0;32m-> 1736\u001b[0;31m                 renderer, self, artists, self.suppressComposite)\n\u001b[0m\u001b[1;32m   1737\u001b[0m \u001b[0;34m\u001b[0m\u001b[0m\n\u001b[1;32m   1738\u001b[0m             \u001b[0mrenderer\u001b[0m\u001b[0;34m.\u001b[0m\u001b[0mclose_group\u001b[0m\u001b[0;34m(\u001b[0m\u001b[0;34m'figure'\u001b[0m\u001b[0;34m)\u001b[0m\u001b[0;34m\u001b[0m\u001b[0;34m\u001b[0m\u001b[0m\n",
            "\u001b[0;32m/usr/local/lib/python3.6/dist-packages/matplotlib/image.py\u001b[0m in \u001b[0;36m_draw_list_compositing_images\u001b[0;34m(renderer, parent, artists, suppress_composite)\u001b[0m\n\u001b[1;32m    135\u001b[0m     \u001b[0;32mif\u001b[0m \u001b[0mnot_composite\u001b[0m \u001b[0;32mor\u001b[0m \u001b[0;32mnot\u001b[0m \u001b[0mhas_images\u001b[0m\u001b[0;34m:\u001b[0m\u001b[0;34m\u001b[0m\u001b[0;34m\u001b[0m\u001b[0m\n\u001b[1;32m    136\u001b[0m         \u001b[0;32mfor\u001b[0m \u001b[0ma\u001b[0m \u001b[0;32min\u001b[0m \u001b[0martists\u001b[0m\u001b[0;34m:\u001b[0m\u001b[0;34m\u001b[0m\u001b[0;34m\u001b[0m\u001b[0m\n\u001b[0;32m--> 137\u001b[0;31m             \u001b[0ma\u001b[0m\u001b[0;34m.\u001b[0m\u001b[0mdraw\u001b[0m\u001b[0;34m(\u001b[0m\u001b[0mrenderer\u001b[0m\u001b[0;34m)\u001b[0m\u001b[0;34m\u001b[0m\u001b[0;34m\u001b[0m\u001b[0m\n\u001b[0m\u001b[1;32m    138\u001b[0m     \u001b[0;32melse\u001b[0m\u001b[0;34m:\u001b[0m\u001b[0;34m\u001b[0m\u001b[0;34m\u001b[0m\u001b[0m\n\u001b[1;32m    139\u001b[0m         \u001b[0;31m# Composite any adjacent images together\u001b[0m\u001b[0;34m\u001b[0m\u001b[0;34m\u001b[0m\u001b[0;34m\u001b[0m\u001b[0m\n",
            "\u001b[0;32m/usr/local/lib/python3.6/dist-packages/matplotlib/artist.py\u001b[0m in \u001b[0;36mdraw_wrapper\u001b[0;34m(artist, renderer, *args, **kwargs)\u001b[0m\n\u001b[1;32m     36\u001b[0m                 \u001b[0mrenderer\u001b[0m\u001b[0;34m.\u001b[0m\u001b[0mstart_filter\u001b[0m\u001b[0;34m(\u001b[0m\u001b[0;34m)\u001b[0m\u001b[0;34m\u001b[0m\u001b[0;34m\u001b[0m\u001b[0m\n\u001b[1;32m     37\u001b[0m \u001b[0;34m\u001b[0m\u001b[0m\n\u001b[0;32m---> 38\u001b[0;31m             \u001b[0;32mreturn\u001b[0m \u001b[0mdraw\u001b[0m\u001b[0;34m(\u001b[0m\u001b[0martist\u001b[0m\u001b[0;34m,\u001b[0m \u001b[0mrenderer\u001b[0m\u001b[0;34m,\u001b[0m \u001b[0;34m*\u001b[0m\u001b[0margs\u001b[0m\u001b[0;34m,\u001b[0m \u001b[0;34m**\u001b[0m\u001b[0mkwargs\u001b[0m\u001b[0;34m)\u001b[0m\u001b[0;34m\u001b[0m\u001b[0;34m\u001b[0m\u001b[0m\n\u001b[0m\u001b[1;32m     39\u001b[0m         \u001b[0;32mfinally\u001b[0m\u001b[0;34m:\u001b[0m\u001b[0;34m\u001b[0m\u001b[0;34m\u001b[0m\u001b[0m\n\u001b[1;32m     40\u001b[0m             \u001b[0;32mif\u001b[0m \u001b[0martist\u001b[0m\u001b[0;34m.\u001b[0m\u001b[0mget_agg_filter\u001b[0m\u001b[0;34m(\u001b[0m\u001b[0;34m)\u001b[0m \u001b[0;32mis\u001b[0m \u001b[0;32mnot\u001b[0m \u001b[0;32mNone\u001b[0m\u001b[0;34m:\u001b[0m\u001b[0;34m\u001b[0m\u001b[0;34m\u001b[0m\u001b[0m\n",
            "\u001b[0;32m/usr/local/lib/python3.6/dist-packages/matplotlib/axes/_base.py\u001b[0m in \u001b[0;36mdraw\u001b[0;34m(self, renderer, inframe)\u001b[0m\n\u001b[1;32m   2628\u001b[0m             \u001b[0mrenderer\u001b[0m\u001b[0;34m.\u001b[0m\u001b[0mstop_rasterizing\u001b[0m\u001b[0;34m(\u001b[0m\u001b[0;34m)\u001b[0m\u001b[0;34m\u001b[0m\u001b[0;34m\u001b[0m\u001b[0m\n\u001b[1;32m   2629\u001b[0m \u001b[0;34m\u001b[0m\u001b[0m\n\u001b[0;32m-> 2630\u001b[0;31m         \u001b[0mmimage\u001b[0m\u001b[0;34m.\u001b[0m\u001b[0m_draw_list_compositing_images\u001b[0m\u001b[0;34m(\u001b[0m\u001b[0mrenderer\u001b[0m\u001b[0;34m,\u001b[0m \u001b[0mself\u001b[0m\u001b[0;34m,\u001b[0m \u001b[0martists\u001b[0m\u001b[0;34m)\u001b[0m\u001b[0;34m\u001b[0m\u001b[0;34m\u001b[0m\u001b[0m\n\u001b[0m\u001b[1;32m   2631\u001b[0m \u001b[0;34m\u001b[0m\u001b[0m\n\u001b[1;32m   2632\u001b[0m         \u001b[0mrenderer\u001b[0m\u001b[0;34m.\u001b[0m\u001b[0mclose_group\u001b[0m\u001b[0;34m(\u001b[0m\u001b[0;34m'axes'\u001b[0m\u001b[0;34m)\u001b[0m\u001b[0;34m\u001b[0m\u001b[0;34m\u001b[0m\u001b[0m\n",
            "\u001b[0;32m/usr/local/lib/python3.6/dist-packages/matplotlib/image.py\u001b[0m in \u001b[0;36m_draw_list_compositing_images\u001b[0;34m(renderer, parent, artists, suppress_composite)\u001b[0m\n\u001b[1;32m    135\u001b[0m     \u001b[0;32mif\u001b[0m \u001b[0mnot_composite\u001b[0m \u001b[0;32mor\u001b[0m \u001b[0;32mnot\u001b[0m \u001b[0mhas_images\u001b[0m\u001b[0;34m:\u001b[0m\u001b[0;34m\u001b[0m\u001b[0;34m\u001b[0m\u001b[0m\n\u001b[1;32m    136\u001b[0m         \u001b[0;32mfor\u001b[0m \u001b[0ma\u001b[0m \u001b[0;32min\u001b[0m \u001b[0martists\u001b[0m\u001b[0;34m:\u001b[0m\u001b[0;34m\u001b[0m\u001b[0;34m\u001b[0m\u001b[0m\n\u001b[0;32m--> 137\u001b[0;31m             \u001b[0ma\u001b[0m\u001b[0;34m.\u001b[0m\u001b[0mdraw\u001b[0m\u001b[0;34m(\u001b[0m\u001b[0mrenderer\u001b[0m\u001b[0;34m)\u001b[0m\u001b[0;34m\u001b[0m\u001b[0;34m\u001b[0m\u001b[0m\n\u001b[0m\u001b[1;32m    138\u001b[0m     \u001b[0;32melse\u001b[0m\u001b[0;34m:\u001b[0m\u001b[0;34m\u001b[0m\u001b[0;34m\u001b[0m\u001b[0m\n\u001b[1;32m    139\u001b[0m         \u001b[0;31m# Composite any adjacent images together\u001b[0m\u001b[0;34m\u001b[0m\u001b[0;34m\u001b[0m\u001b[0;34m\u001b[0m\u001b[0m\n",
            "\u001b[0;32m/usr/local/lib/python3.6/dist-packages/matplotlib/artist.py\u001b[0m in \u001b[0;36mdraw_wrapper\u001b[0;34m(artist, renderer, *args, **kwargs)\u001b[0m\n\u001b[1;32m     36\u001b[0m                 \u001b[0mrenderer\u001b[0m\u001b[0;34m.\u001b[0m\u001b[0mstart_filter\u001b[0m\u001b[0;34m(\u001b[0m\u001b[0;34m)\u001b[0m\u001b[0;34m\u001b[0m\u001b[0;34m\u001b[0m\u001b[0m\n\u001b[1;32m     37\u001b[0m \u001b[0;34m\u001b[0m\u001b[0m\n\u001b[0;32m---> 38\u001b[0;31m             \u001b[0;32mreturn\u001b[0m \u001b[0mdraw\u001b[0m\u001b[0;34m(\u001b[0m\u001b[0martist\u001b[0m\u001b[0;34m,\u001b[0m \u001b[0mrenderer\u001b[0m\u001b[0;34m,\u001b[0m \u001b[0;34m*\u001b[0m\u001b[0margs\u001b[0m\u001b[0;34m,\u001b[0m \u001b[0;34m**\u001b[0m\u001b[0mkwargs\u001b[0m\u001b[0;34m)\u001b[0m\u001b[0;34m\u001b[0m\u001b[0;34m\u001b[0m\u001b[0m\n\u001b[0m\u001b[1;32m     39\u001b[0m         \u001b[0;32mfinally\u001b[0m\u001b[0;34m:\u001b[0m\u001b[0;34m\u001b[0m\u001b[0;34m\u001b[0m\u001b[0m\n\u001b[1;32m     40\u001b[0m             \u001b[0;32mif\u001b[0m \u001b[0martist\u001b[0m\u001b[0;34m.\u001b[0m\u001b[0mget_agg_filter\u001b[0m\u001b[0;34m(\u001b[0m\u001b[0;34m)\u001b[0m \u001b[0;32mis\u001b[0m \u001b[0;32mnot\u001b[0m \u001b[0;32mNone\u001b[0m\u001b[0;34m:\u001b[0m\u001b[0;34m\u001b[0m\u001b[0;34m\u001b[0m\u001b[0m\n",
            "\u001b[0;32m/usr/local/lib/python3.6/dist-packages/matplotlib/axis.py\u001b[0m in \u001b[0;36mdraw\u001b[0;34m(self, renderer, *args, **kwargs)\u001b[0m\n\u001b[1;32m   1225\u001b[0m         \u001b[0mrenderer\u001b[0m\u001b[0;34m.\u001b[0m\u001b[0mopen_group\u001b[0m\u001b[0;34m(\u001b[0m\u001b[0m__name__\u001b[0m\u001b[0;34m,\u001b[0m \u001b[0mgid\u001b[0m\u001b[0;34m=\u001b[0m\u001b[0mself\u001b[0m\u001b[0;34m.\u001b[0m\u001b[0mget_gid\u001b[0m\u001b[0;34m(\u001b[0m\u001b[0;34m)\u001b[0m\u001b[0;34m)\u001b[0m\u001b[0;34m\u001b[0m\u001b[0;34m\u001b[0m\u001b[0m\n\u001b[1;32m   1226\u001b[0m \u001b[0;34m\u001b[0m\u001b[0m\n\u001b[0;32m-> 1227\u001b[0;31m         \u001b[0mticks_to_draw\u001b[0m \u001b[0;34m=\u001b[0m \u001b[0mself\u001b[0m\u001b[0;34m.\u001b[0m\u001b[0m_update_ticks\u001b[0m\u001b[0;34m(\u001b[0m\u001b[0;34m)\u001b[0m\u001b[0;34m\u001b[0m\u001b[0;34m\u001b[0m\u001b[0m\n\u001b[0m\u001b[1;32m   1228\u001b[0m         ticklabelBoxes, ticklabelBoxes2 = self._get_tick_bboxes(ticks_to_draw,\n\u001b[1;32m   1229\u001b[0m                                                                 renderer)\n",
            "\u001b[0;32m/usr/local/lib/python3.6/dist-packages/matplotlib/axis.py\u001b[0m in \u001b[0;36m_update_ticks\u001b[0;34m(self)\u001b[0m\n\u001b[1;32m   1101\u001b[0m         \u001b[0mthe\u001b[0m \u001b[0maxes\u001b[0m\u001b[0;34m.\u001b[0m  \u001b[0mReturn\u001b[0m \u001b[0mthe\u001b[0m \u001b[0mlist\u001b[0m \u001b[0mof\u001b[0m \u001b[0mticks\u001b[0m \u001b[0mthat\u001b[0m \u001b[0mwill\u001b[0m \u001b[0mbe\u001b[0m \u001b[0mdrawn\u001b[0m\u001b[0;34m.\u001b[0m\u001b[0;34m\u001b[0m\u001b[0;34m\u001b[0m\u001b[0m\n\u001b[1;32m   1102\u001b[0m         \"\"\"\n\u001b[0;32m-> 1103\u001b[0;31m         \u001b[0mmajor_locs\u001b[0m \u001b[0;34m=\u001b[0m \u001b[0mself\u001b[0m\u001b[0;34m.\u001b[0m\u001b[0mget_majorticklocs\u001b[0m\u001b[0;34m(\u001b[0m\u001b[0;34m)\u001b[0m\u001b[0;34m\u001b[0m\u001b[0;34m\u001b[0m\u001b[0m\n\u001b[0m\u001b[1;32m   1104\u001b[0m         \u001b[0mmajor_labels\u001b[0m \u001b[0;34m=\u001b[0m \u001b[0mself\u001b[0m\u001b[0;34m.\u001b[0m\u001b[0mmajor\u001b[0m\u001b[0;34m.\u001b[0m\u001b[0mformatter\u001b[0m\u001b[0;34m.\u001b[0m\u001b[0mformat_ticks\u001b[0m\u001b[0;34m(\u001b[0m\u001b[0mmajor_locs\u001b[0m\u001b[0;34m)\u001b[0m\u001b[0;34m\u001b[0m\u001b[0;34m\u001b[0m\u001b[0m\n\u001b[1;32m   1105\u001b[0m         \u001b[0mmajor_ticks\u001b[0m \u001b[0;34m=\u001b[0m \u001b[0mself\u001b[0m\u001b[0;34m.\u001b[0m\u001b[0mget_major_ticks\u001b[0m\u001b[0;34m(\u001b[0m\u001b[0mlen\u001b[0m\u001b[0;34m(\u001b[0m\u001b[0mmajor_locs\u001b[0m\u001b[0;34m)\u001b[0m\u001b[0;34m)\u001b[0m\u001b[0;34m\u001b[0m\u001b[0;34m\u001b[0m\u001b[0m\n",
            "\u001b[0;32m/usr/local/lib/python3.6/dist-packages/matplotlib/axis.py\u001b[0m in \u001b[0;36mget_majorticklocs\u001b[0;34m(self)\u001b[0m\n\u001b[1;32m   1346\u001b[0m     \u001b[0;32mdef\u001b[0m \u001b[0mget_majorticklocs\u001b[0m\u001b[0;34m(\u001b[0m\u001b[0mself\u001b[0m\u001b[0;34m)\u001b[0m\u001b[0;34m:\u001b[0m\u001b[0;34m\u001b[0m\u001b[0;34m\u001b[0m\u001b[0m\n\u001b[1;32m   1347\u001b[0m         \u001b[0;34m\"\"\"Get the array of major tick locations in data coordinates.\"\"\"\u001b[0m\u001b[0;34m\u001b[0m\u001b[0;34m\u001b[0m\u001b[0m\n\u001b[0;32m-> 1348\u001b[0;31m         \u001b[0;32mreturn\u001b[0m \u001b[0mself\u001b[0m\u001b[0;34m.\u001b[0m\u001b[0mmajor\u001b[0m\u001b[0;34m.\u001b[0m\u001b[0mlocator\u001b[0m\u001b[0;34m(\u001b[0m\u001b[0;34m)\u001b[0m\u001b[0;34m\u001b[0m\u001b[0;34m\u001b[0m\u001b[0m\n\u001b[0m\u001b[1;32m   1349\u001b[0m \u001b[0;34m\u001b[0m\u001b[0m\n\u001b[1;32m   1350\u001b[0m     \u001b[0;32mdef\u001b[0m \u001b[0mget_minorticklocs\u001b[0m\u001b[0;34m(\u001b[0m\u001b[0mself\u001b[0m\u001b[0;34m)\u001b[0m\u001b[0;34m:\u001b[0m\u001b[0;34m\u001b[0m\u001b[0;34m\u001b[0m\u001b[0m\n",
            "\u001b[0;32m/usr/local/lib/python3.6/dist-packages/matplotlib/dates.py\u001b[0m in \u001b[0;36m__call__\u001b[0;34m(self)\u001b[0m\n\u001b[1;32m   1336\u001b[0m     \u001b[0;32mdef\u001b[0m \u001b[0m__call__\u001b[0m\u001b[0;34m(\u001b[0m\u001b[0mself\u001b[0m\u001b[0;34m)\u001b[0m\u001b[0;34m:\u001b[0m\u001b[0;34m\u001b[0m\u001b[0;34m\u001b[0m\u001b[0m\n\u001b[1;32m   1337\u001b[0m         \u001b[0;34m'Return the locations of the ticks'\u001b[0m\u001b[0;34m\u001b[0m\u001b[0;34m\u001b[0m\u001b[0m\n\u001b[0;32m-> 1338\u001b[0;31m         \u001b[0mself\u001b[0m\u001b[0;34m.\u001b[0m\u001b[0mrefresh\u001b[0m\u001b[0;34m(\u001b[0m\u001b[0;34m)\u001b[0m\u001b[0;34m\u001b[0m\u001b[0;34m\u001b[0m\u001b[0m\n\u001b[0m\u001b[1;32m   1339\u001b[0m         \u001b[0;32mreturn\u001b[0m \u001b[0mself\u001b[0m\u001b[0;34m.\u001b[0m\u001b[0m_locator\u001b[0m\u001b[0;34m(\u001b[0m\u001b[0;34m)\u001b[0m\u001b[0;34m\u001b[0m\u001b[0;34m\u001b[0m\u001b[0m\n\u001b[1;32m   1340\u001b[0m \u001b[0;34m\u001b[0m\u001b[0m\n",
            "\u001b[0;32m/usr/local/lib/python3.6/dist-packages/matplotlib/dates.py\u001b[0m in \u001b[0;36mrefresh\u001b[0;34m(self)\u001b[0m\n\u001b[1;32m   1362\u001b[0m     \u001b[0;32mdef\u001b[0m \u001b[0mrefresh\u001b[0m\u001b[0;34m(\u001b[0m\u001b[0mself\u001b[0m\u001b[0;34m)\u001b[0m\u001b[0;34m:\u001b[0m\u001b[0;34m\u001b[0m\u001b[0;34m\u001b[0m\u001b[0m\n\u001b[1;32m   1363\u001b[0m         \u001b[0;31m# docstring inherited\u001b[0m\u001b[0;34m\u001b[0m\u001b[0;34m\u001b[0m\u001b[0;34m\u001b[0m\u001b[0m\n\u001b[0;32m-> 1364\u001b[0;31m         \u001b[0mdmin\u001b[0m\u001b[0;34m,\u001b[0m \u001b[0mdmax\u001b[0m \u001b[0;34m=\u001b[0m \u001b[0mself\u001b[0m\u001b[0;34m.\u001b[0m\u001b[0mviewlim_to_dt\u001b[0m\u001b[0;34m(\u001b[0m\u001b[0;34m)\u001b[0m\u001b[0;34m\u001b[0m\u001b[0;34m\u001b[0m\u001b[0m\n\u001b[0m\u001b[1;32m   1365\u001b[0m         \u001b[0mself\u001b[0m\u001b[0;34m.\u001b[0m\u001b[0m_locator\u001b[0m \u001b[0;34m=\u001b[0m \u001b[0mself\u001b[0m\u001b[0;34m.\u001b[0m\u001b[0mget_locator\u001b[0m\u001b[0;34m(\u001b[0m\u001b[0mdmin\u001b[0m\u001b[0;34m,\u001b[0m \u001b[0mdmax\u001b[0m\u001b[0;34m)\u001b[0m\u001b[0;34m\u001b[0m\u001b[0;34m\u001b[0m\u001b[0m\n\u001b[1;32m   1366\u001b[0m \u001b[0;34m\u001b[0m\u001b[0m\n",
            "\u001b[0;32m/usr/local/lib/python3.6/dist-packages/matplotlib/dates.py\u001b[0m in \u001b[0;36mviewlim_to_dt\u001b[0;34m(self)\u001b[0m\n\u001b[1;32m   1096\u001b[0m                              \u001b[0;34m'often happens if you pass a non-datetime '\u001b[0m\u001b[0;34m\u001b[0m\u001b[0;34m\u001b[0m\u001b[0m\n\u001b[1;32m   1097\u001b[0m                              \u001b[0;34m'value to an axis that has datetime units'\u001b[0m\u001b[0;34m\u001b[0m\u001b[0;34m\u001b[0m\u001b[0m\n\u001b[0;32m-> 1098\u001b[0;31m                              .format(vmin))\n\u001b[0m\u001b[1;32m   1099\u001b[0m         \u001b[0;32mreturn\u001b[0m \u001b[0mnum2date\u001b[0m\u001b[0;34m(\u001b[0m\u001b[0mvmin\u001b[0m\u001b[0;34m,\u001b[0m \u001b[0mself\u001b[0m\u001b[0;34m.\u001b[0m\u001b[0mtz\u001b[0m\u001b[0;34m)\u001b[0m\u001b[0;34m,\u001b[0m \u001b[0mnum2date\u001b[0m\u001b[0;34m(\u001b[0m\u001b[0mvmax\u001b[0m\u001b[0;34m,\u001b[0m \u001b[0mself\u001b[0m\u001b[0;34m.\u001b[0m\u001b[0mtz\u001b[0m\u001b[0;34m)\u001b[0m\u001b[0;34m\u001b[0m\u001b[0;34m\u001b[0m\u001b[0m\n\u001b[1;32m   1100\u001b[0m \u001b[0;34m\u001b[0m\u001b[0m\n",
            "\u001b[0;31mValueError\u001b[0m: view limit minimum -36865.334965277776 is less than 1 and is an invalid Matplotlib date value. This often happens if you pass a non-datetime value to an axis that has datetime units"
          ]
        },
        {
          "output_type": "error",
          "ename": "ValueError",
          "evalue": "ignored",
          "traceback": [
            "\u001b[0;31m---------------------------------------------------------------------------\u001b[0m",
            "\u001b[0;31mValueError\u001b[0m                                Traceback (most recent call last)",
            "\u001b[0;32m/usr/local/lib/python3.6/dist-packages/ipykernel/pylab/backend_inline.py\u001b[0m in \u001b[0;36mshow\u001b[0;34m(close, block)\u001b[0m\n\u001b[1;32m     37\u001b[0m             display(\n\u001b[1;32m     38\u001b[0m                 \u001b[0mfigure_manager\u001b[0m\u001b[0;34m.\u001b[0m\u001b[0mcanvas\u001b[0m\u001b[0;34m.\u001b[0m\u001b[0mfigure\u001b[0m\u001b[0;34m,\u001b[0m\u001b[0;34m\u001b[0m\u001b[0;34m\u001b[0m\u001b[0m\n\u001b[0;32m---> 39\u001b[0;31m                 \u001b[0mmetadata\u001b[0m\u001b[0;34m=\u001b[0m\u001b[0m_fetch_figure_metadata\u001b[0m\u001b[0;34m(\u001b[0m\u001b[0mfigure_manager\u001b[0m\u001b[0;34m.\u001b[0m\u001b[0mcanvas\u001b[0m\u001b[0;34m.\u001b[0m\u001b[0mfigure\u001b[0m\u001b[0;34m)\u001b[0m\u001b[0;34m\u001b[0m\u001b[0;34m\u001b[0m\u001b[0m\n\u001b[0m\u001b[1;32m     40\u001b[0m             )\n\u001b[1;32m     41\u001b[0m     \u001b[0;32mfinally\u001b[0m\u001b[0;34m:\u001b[0m\u001b[0;34m\u001b[0m\u001b[0;34m\u001b[0m\u001b[0m\n",
            "\u001b[0;32m/usr/local/lib/python3.6/dist-packages/ipykernel/pylab/backend_inline.py\u001b[0m in \u001b[0;36m_fetch_figure_metadata\u001b[0;34m(fig)\u001b[0m\n\u001b[1;32m    175\u001b[0m         \u001b[0;31m# the background is transparent\u001b[0m\u001b[0;34m\u001b[0m\u001b[0;34m\u001b[0m\u001b[0;34m\u001b[0m\u001b[0m\n\u001b[1;32m    176\u001b[0m         ticksLight = _is_light([label.get_color()\n\u001b[0;32m--> 177\u001b[0;31m                                 \u001b[0;32mfor\u001b[0m \u001b[0maxes\u001b[0m \u001b[0;32min\u001b[0m \u001b[0mfig\u001b[0m\u001b[0;34m.\u001b[0m\u001b[0maxes\u001b[0m\u001b[0;34m\u001b[0m\u001b[0;34m\u001b[0m\u001b[0m\n\u001b[0m\u001b[1;32m    178\u001b[0m                                 \u001b[0;32mfor\u001b[0m \u001b[0maxis\u001b[0m \u001b[0;32min\u001b[0m \u001b[0;34m(\u001b[0m\u001b[0maxes\u001b[0m\u001b[0;34m.\u001b[0m\u001b[0mxaxis\u001b[0m\u001b[0;34m,\u001b[0m \u001b[0maxes\u001b[0m\u001b[0;34m.\u001b[0m\u001b[0myaxis\u001b[0m\u001b[0;34m)\u001b[0m\u001b[0;34m\u001b[0m\u001b[0;34m\u001b[0m\u001b[0m\n\u001b[1;32m    179\u001b[0m                                 for label in axis.get_ticklabels()])\n",
            "\u001b[0;32m/usr/local/lib/python3.6/dist-packages/ipykernel/pylab/backend_inline.py\u001b[0m in \u001b[0;36m<listcomp>\u001b[0;34m(.0)\u001b[0m\n\u001b[1;32m    177\u001b[0m                                 \u001b[0;32mfor\u001b[0m \u001b[0maxes\u001b[0m \u001b[0;32min\u001b[0m \u001b[0mfig\u001b[0m\u001b[0;34m.\u001b[0m\u001b[0maxes\u001b[0m\u001b[0;34m\u001b[0m\u001b[0;34m\u001b[0m\u001b[0m\n\u001b[1;32m    178\u001b[0m                                 \u001b[0;32mfor\u001b[0m \u001b[0maxis\u001b[0m \u001b[0;32min\u001b[0m \u001b[0;34m(\u001b[0m\u001b[0maxes\u001b[0m\u001b[0;34m.\u001b[0m\u001b[0mxaxis\u001b[0m\u001b[0;34m,\u001b[0m \u001b[0maxes\u001b[0m\u001b[0;34m.\u001b[0m\u001b[0myaxis\u001b[0m\u001b[0;34m)\u001b[0m\u001b[0;34m\u001b[0m\u001b[0;34m\u001b[0m\u001b[0m\n\u001b[0;32m--> 179\u001b[0;31m                                 for label in axis.get_ticklabels()])\n\u001b[0m\u001b[1;32m    180\u001b[0m         \u001b[0;32mif\u001b[0m \u001b[0mticksLight\u001b[0m\u001b[0;34m.\u001b[0m\u001b[0msize\u001b[0m \u001b[0;32mand\u001b[0m \u001b[0;34m(\u001b[0m\u001b[0mticksLight\u001b[0m \u001b[0;34m==\u001b[0m \u001b[0mticksLight\u001b[0m\u001b[0;34m[\u001b[0m\u001b[0;36m0\u001b[0m\u001b[0;34m]\u001b[0m\u001b[0;34m)\u001b[0m\u001b[0;34m.\u001b[0m\u001b[0mall\u001b[0m\u001b[0;34m(\u001b[0m\u001b[0;34m)\u001b[0m\u001b[0;34m:\u001b[0m\u001b[0;34m\u001b[0m\u001b[0;34m\u001b[0m\u001b[0m\n\u001b[1;32m    181\u001b[0m             \u001b[0;31m# there are one or more tick labels, all with the same lightness\u001b[0m\u001b[0;34m\u001b[0m\u001b[0;34m\u001b[0m\u001b[0;34m\u001b[0m\u001b[0m\n",
            "\u001b[0;32m/usr/local/lib/python3.6/dist-packages/matplotlib/axis.py\u001b[0m in \u001b[0;36mget_ticklabels\u001b[0;34m(self, minor, which)\u001b[0m\n\u001b[1;32m   1318\u001b[0m         \u001b[0;32mif\u001b[0m \u001b[0mminor\u001b[0m\u001b[0;34m:\u001b[0m\u001b[0;34m\u001b[0m\u001b[0;34m\u001b[0m\u001b[0m\n\u001b[1;32m   1319\u001b[0m             \u001b[0;32mreturn\u001b[0m \u001b[0mself\u001b[0m\u001b[0;34m.\u001b[0m\u001b[0mget_minorticklabels\u001b[0m\u001b[0;34m(\u001b[0m\u001b[0;34m)\u001b[0m\u001b[0;34m\u001b[0m\u001b[0;34m\u001b[0m\u001b[0m\n\u001b[0;32m-> 1320\u001b[0;31m         \u001b[0;32mreturn\u001b[0m \u001b[0mself\u001b[0m\u001b[0;34m.\u001b[0m\u001b[0mget_majorticklabels\u001b[0m\u001b[0;34m(\u001b[0m\u001b[0;34m)\u001b[0m\u001b[0;34m\u001b[0m\u001b[0;34m\u001b[0m\u001b[0m\n\u001b[0m\u001b[1;32m   1321\u001b[0m \u001b[0;34m\u001b[0m\u001b[0m\n\u001b[1;32m   1322\u001b[0m     \u001b[0;32mdef\u001b[0m \u001b[0mget_majorticklines\u001b[0m\u001b[0;34m(\u001b[0m\u001b[0mself\u001b[0m\u001b[0;34m)\u001b[0m\u001b[0;34m:\u001b[0m\u001b[0;34m\u001b[0m\u001b[0;34m\u001b[0m\u001b[0m\n",
            "\u001b[0;32m/usr/local/lib/python3.6/dist-packages/matplotlib/axis.py\u001b[0m in \u001b[0;36mget_majorticklabels\u001b[0;34m(self)\u001b[0m\n\u001b[1;32m   1274\u001b[0m     \u001b[0;32mdef\u001b[0m \u001b[0mget_majorticklabels\u001b[0m\u001b[0;34m(\u001b[0m\u001b[0mself\u001b[0m\u001b[0;34m)\u001b[0m\u001b[0;34m:\u001b[0m\u001b[0;34m\u001b[0m\u001b[0;34m\u001b[0m\u001b[0m\n\u001b[1;32m   1275\u001b[0m         \u001b[0;34m'Return a list of Text instances for the major ticklabels.'\u001b[0m\u001b[0;34m\u001b[0m\u001b[0;34m\u001b[0m\u001b[0m\n\u001b[0;32m-> 1276\u001b[0;31m         \u001b[0mticks\u001b[0m \u001b[0;34m=\u001b[0m \u001b[0mself\u001b[0m\u001b[0;34m.\u001b[0m\u001b[0mget_major_ticks\u001b[0m\u001b[0;34m(\u001b[0m\u001b[0;34m)\u001b[0m\u001b[0;34m\u001b[0m\u001b[0;34m\u001b[0m\u001b[0m\n\u001b[0m\u001b[1;32m   1277\u001b[0m         \u001b[0mlabels1\u001b[0m \u001b[0;34m=\u001b[0m \u001b[0;34m[\u001b[0m\u001b[0mtick\u001b[0m\u001b[0;34m.\u001b[0m\u001b[0mlabel1\u001b[0m \u001b[0;32mfor\u001b[0m \u001b[0mtick\u001b[0m \u001b[0;32min\u001b[0m \u001b[0mticks\u001b[0m \u001b[0;32mif\u001b[0m \u001b[0mtick\u001b[0m\u001b[0;34m.\u001b[0m\u001b[0mlabel1\u001b[0m\u001b[0;34m.\u001b[0m\u001b[0mget_visible\u001b[0m\u001b[0;34m(\u001b[0m\u001b[0;34m)\u001b[0m\u001b[0;34m]\u001b[0m\u001b[0;34m\u001b[0m\u001b[0;34m\u001b[0m\u001b[0m\n\u001b[1;32m   1278\u001b[0m         \u001b[0mlabels2\u001b[0m \u001b[0;34m=\u001b[0m \u001b[0;34m[\u001b[0m\u001b[0mtick\u001b[0m\u001b[0;34m.\u001b[0m\u001b[0mlabel2\u001b[0m \u001b[0;32mfor\u001b[0m \u001b[0mtick\u001b[0m \u001b[0;32min\u001b[0m \u001b[0mticks\u001b[0m \u001b[0;32mif\u001b[0m \u001b[0mtick\u001b[0m\u001b[0;34m.\u001b[0m\u001b[0mlabel2\u001b[0m\u001b[0;34m.\u001b[0m\u001b[0mget_visible\u001b[0m\u001b[0;34m(\u001b[0m\u001b[0;34m)\u001b[0m\u001b[0;34m]\u001b[0m\u001b[0;34m\u001b[0m\u001b[0;34m\u001b[0m\u001b[0m\n",
            "\u001b[0;32m/usr/local/lib/python3.6/dist-packages/matplotlib/axis.py\u001b[0m in \u001b[0;36mget_major_ticks\u001b[0;34m(self, numticks)\u001b[0m\n\u001b[1;32m   1429\u001b[0m         \u001b[0;34m'Get the tick instances; grow as necessary.'\u001b[0m\u001b[0;34m\u001b[0m\u001b[0;34m\u001b[0m\u001b[0m\n\u001b[1;32m   1430\u001b[0m         \u001b[0;32mif\u001b[0m \u001b[0mnumticks\u001b[0m \u001b[0;32mis\u001b[0m \u001b[0;32mNone\u001b[0m\u001b[0;34m:\u001b[0m\u001b[0;34m\u001b[0m\u001b[0;34m\u001b[0m\u001b[0m\n\u001b[0;32m-> 1431\u001b[0;31m             \u001b[0mnumticks\u001b[0m \u001b[0;34m=\u001b[0m \u001b[0mlen\u001b[0m\u001b[0;34m(\u001b[0m\u001b[0mself\u001b[0m\u001b[0;34m.\u001b[0m\u001b[0mget_majorticklocs\u001b[0m\u001b[0;34m(\u001b[0m\u001b[0;34m)\u001b[0m\u001b[0;34m)\u001b[0m\u001b[0;34m\u001b[0m\u001b[0;34m\u001b[0m\u001b[0m\n\u001b[0m\u001b[1;32m   1432\u001b[0m \u001b[0;34m\u001b[0m\u001b[0m\n\u001b[1;32m   1433\u001b[0m         \u001b[0;32mwhile\u001b[0m \u001b[0mlen\u001b[0m\u001b[0;34m(\u001b[0m\u001b[0mself\u001b[0m\u001b[0;34m.\u001b[0m\u001b[0mmajorTicks\u001b[0m\u001b[0;34m)\u001b[0m \u001b[0;34m<\u001b[0m \u001b[0mnumticks\u001b[0m\u001b[0;34m:\u001b[0m\u001b[0;34m\u001b[0m\u001b[0;34m\u001b[0m\u001b[0m\n",
            "\u001b[0;32m/usr/local/lib/python3.6/dist-packages/matplotlib/axis.py\u001b[0m in \u001b[0;36mget_majorticklocs\u001b[0;34m(self)\u001b[0m\n\u001b[1;32m   1346\u001b[0m     \u001b[0;32mdef\u001b[0m \u001b[0mget_majorticklocs\u001b[0m\u001b[0;34m(\u001b[0m\u001b[0mself\u001b[0m\u001b[0;34m)\u001b[0m\u001b[0;34m:\u001b[0m\u001b[0;34m\u001b[0m\u001b[0;34m\u001b[0m\u001b[0m\n\u001b[1;32m   1347\u001b[0m         \u001b[0;34m\"\"\"Get the array of major tick locations in data coordinates.\"\"\"\u001b[0m\u001b[0;34m\u001b[0m\u001b[0;34m\u001b[0m\u001b[0m\n\u001b[0;32m-> 1348\u001b[0;31m         \u001b[0;32mreturn\u001b[0m \u001b[0mself\u001b[0m\u001b[0;34m.\u001b[0m\u001b[0mmajor\u001b[0m\u001b[0;34m.\u001b[0m\u001b[0mlocator\u001b[0m\u001b[0;34m(\u001b[0m\u001b[0;34m)\u001b[0m\u001b[0;34m\u001b[0m\u001b[0;34m\u001b[0m\u001b[0m\n\u001b[0m\u001b[1;32m   1349\u001b[0m \u001b[0;34m\u001b[0m\u001b[0m\n\u001b[1;32m   1350\u001b[0m     \u001b[0;32mdef\u001b[0m \u001b[0mget_minorticklocs\u001b[0m\u001b[0;34m(\u001b[0m\u001b[0mself\u001b[0m\u001b[0;34m)\u001b[0m\u001b[0;34m:\u001b[0m\u001b[0;34m\u001b[0m\u001b[0;34m\u001b[0m\u001b[0m\n",
            "\u001b[0;32m/usr/local/lib/python3.6/dist-packages/matplotlib/dates.py\u001b[0m in \u001b[0;36m__call__\u001b[0;34m(self)\u001b[0m\n\u001b[1;32m   1336\u001b[0m     \u001b[0;32mdef\u001b[0m \u001b[0m__call__\u001b[0m\u001b[0;34m(\u001b[0m\u001b[0mself\u001b[0m\u001b[0;34m)\u001b[0m\u001b[0;34m:\u001b[0m\u001b[0;34m\u001b[0m\u001b[0;34m\u001b[0m\u001b[0m\n\u001b[1;32m   1337\u001b[0m         \u001b[0;34m'Return the locations of the ticks'\u001b[0m\u001b[0;34m\u001b[0m\u001b[0;34m\u001b[0m\u001b[0m\n\u001b[0;32m-> 1338\u001b[0;31m         \u001b[0mself\u001b[0m\u001b[0;34m.\u001b[0m\u001b[0mrefresh\u001b[0m\u001b[0;34m(\u001b[0m\u001b[0;34m)\u001b[0m\u001b[0;34m\u001b[0m\u001b[0;34m\u001b[0m\u001b[0m\n\u001b[0m\u001b[1;32m   1339\u001b[0m         \u001b[0;32mreturn\u001b[0m \u001b[0mself\u001b[0m\u001b[0;34m.\u001b[0m\u001b[0m_locator\u001b[0m\u001b[0;34m(\u001b[0m\u001b[0;34m)\u001b[0m\u001b[0;34m\u001b[0m\u001b[0;34m\u001b[0m\u001b[0m\n\u001b[1;32m   1340\u001b[0m \u001b[0;34m\u001b[0m\u001b[0m\n",
            "\u001b[0;32m/usr/local/lib/python3.6/dist-packages/matplotlib/dates.py\u001b[0m in \u001b[0;36mrefresh\u001b[0;34m(self)\u001b[0m\n\u001b[1;32m   1362\u001b[0m     \u001b[0;32mdef\u001b[0m \u001b[0mrefresh\u001b[0m\u001b[0;34m(\u001b[0m\u001b[0mself\u001b[0m\u001b[0;34m)\u001b[0m\u001b[0;34m:\u001b[0m\u001b[0;34m\u001b[0m\u001b[0;34m\u001b[0m\u001b[0m\n\u001b[1;32m   1363\u001b[0m         \u001b[0;31m# docstring inherited\u001b[0m\u001b[0;34m\u001b[0m\u001b[0;34m\u001b[0m\u001b[0;34m\u001b[0m\u001b[0m\n\u001b[0;32m-> 1364\u001b[0;31m         \u001b[0mdmin\u001b[0m\u001b[0;34m,\u001b[0m \u001b[0mdmax\u001b[0m \u001b[0;34m=\u001b[0m \u001b[0mself\u001b[0m\u001b[0;34m.\u001b[0m\u001b[0mviewlim_to_dt\u001b[0m\u001b[0;34m(\u001b[0m\u001b[0;34m)\u001b[0m\u001b[0;34m\u001b[0m\u001b[0;34m\u001b[0m\u001b[0m\n\u001b[0m\u001b[1;32m   1365\u001b[0m         \u001b[0mself\u001b[0m\u001b[0;34m.\u001b[0m\u001b[0m_locator\u001b[0m \u001b[0;34m=\u001b[0m \u001b[0mself\u001b[0m\u001b[0;34m.\u001b[0m\u001b[0mget_locator\u001b[0m\u001b[0;34m(\u001b[0m\u001b[0mdmin\u001b[0m\u001b[0;34m,\u001b[0m \u001b[0mdmax\u001b[0m\u001b[0;34m)\u001b[0m\u001b[0;34m\u001b[0m\u001b[0;34m\u001b[0m\u001b[0m\n\u001b[1;32m   1366\u001b[0m \u001b[0;34m\u001b[0m\u001b[0m\n",
            "\u001b[0;32m/usr/local/lib/python3.6/dist-packages/matplotlib/dates.py\u001b[0m in \u001b[0;36mviewlim_to_dt\u001b[0;34m(self)\u001b[0m\n\u001b[1;32m   1096\u001b[0m                              \u001b[0;34m'often happens if you pass a non-datetime '\u001b[0m\u001b[0;34m\u001b[0m\u001b[0;34m\u001b[0m\u001b[0m\n\u001b[1;32m   1097\u001b[0m                              \u001b[0;34m'value to an axis that has datetime units'\u001b[0m\u001b[0;34m\u001b[0m\u001b[0;34m\u001b[0m\u001b[0m\n\u001b[0;32m-> 1098\u001b[0;31m                              .format(vmin))\n\u001b[0m\u001b[1;32m   1099\u001b[0m         \u001b[0;32mreturn\u001b[0m \u001b[0mnum2date\u001b[0m\u001b[0;34m(\u001b[0m\u001b[0mvmin\u001b[0m\u001b[0;34m,\u001b[0m \u001b[0mself\u001b[0m\u001b[0;34m.\u001b[0m\u001b[0mtz\u001b[0m\u001b[0;34m)\u001b[0m\u001b[0;34m,\u001b[0m \u001b[0mnum2date\u001b[0m\u001b[0;34m(\u001b[0m\u001b[0mvmax\u001b[0m\u001b[0;34m,\u001b[0m \u001b[0mself\u001b[0m\u001b[0;34m.\u001b[0m\u001b[0mtz\u001b[0m\u001b[0;34m)\u001b[0m\u001b[0;34m\u001b[0m\u001b[0;34m\u001b[0m\u001b[0m\n\u001b[1;32m   1100\u001b[0m \u001b[0;34m\u001b[0m\u001b[0m\n",
            "\u001b[0;31mValueError\u001b[0m: view limit minimum -36865.334965277776 is less than 1 and is an invalid Matplotlib date value. This often happens if you pass a non-datetime value to an axis that has datetime units"
          ]
        }
      ]
    },
    {
      "cell_type": "markdown",
      "metadata": {
        "id": "KNLEuZ591pk2"
      },
      "source": [
        "### Exercises\n",
        "\n",
        "1. Make a function that creates the timeserie and plot it, for any station id\n",
        "2. Update the function so that the X-axis shows the time, and not some numbers (hint: you have to cast the timestamp to a datetime object)"
      ]
    },
    {
      "cell_type": "markdown",
      "metadata": {
        "id": "Q-htyc1NMGpd"
      },
      "source": [
        "### Solution"
      ]
    },
    {
      "cell_type": "code",
      "metadata": {
        "id": "90XAAnW51pBq"
      },
      "source": [
        "import requests\n",
        "url = 'https://api.data.gov.sg/v1/environment/air-temperature'\n",
        "# When we query for a specific day in the past, we get per minute data\n",
        "resp = requests.get(url, params={'date' :'2021-01-26'})"
      ],
      "execution_count": null,
      "outputs": []
    },
    {
      "cell_type": "code",
      "metadata": {
        "id": "pji-FD-2MFcV"
      },
      "source": [
        "from datetime import datetime\n",
        "\n",
        "def plot_timeseries(station_id):\n",
        "  global resp\n",
        "  data=resp.json()\n",
        "  items=data['items']\n",
        "  timeseries = {'timestamp':[],'value':[]}\n",
        "  # loop through each item\n",
        "  for i in items:\n",
        "    # loop to get readings and timestamp\n",
        "    for reading in i['readings']:\n",
        "      if reading['station_id']==station_id:\n",
        "        # transform timestamp to datetime\n",
        "        # remove everything from + onwards in timestamp\n",
        "        timestamp = i['timestamp'].split('+')[0]\n",
        "        timestamp=datetime.strptime(timestamp,'%Y-%m-%dT%H:%M:%S') \n",
        "        timeseries['timestamp'].append(timestamp)\n",
        "        # add corresponding value\n",
        "        timeseries['value'].append(reading['value'])\n",
        "        # END IF\n",
        "    # READINGS LOOP END\n",
        "  # ITEMS LOOP END\n",
        "  df = pd.DataFrame.from_dict(timeseries)\n",
        "  # Set the index as \"timestamp\" instead of default index\n",
        "  df.set_index('timestamp').plot.line(figsize=(18,6))"
      ],
      "execution_count": 64,
      "outputs": []
    },
    {
      "cell_type": "code",
      "metadata": {
        "colab": {
          "base_uri": "https://localhost:8080/",
          "height": 377
        },
        "id": "J5eV9rtDpaAM",
        "outputId": "8e95504e-d05a-4a1b-ee93-ac821db7c225"
      },
      "source": [
        "plot_timeseries(\"S111\")"
      ],
      "execution_count": 66,
      "outputs": [
        {
          "output_type": "display_data",
          "data": {
            "image/png": "[encoded data removed]",
            "text/plain": [
              "<Figure size 1296x432 with 1 Axes>"
            ]
          },
          "metadata": {
            "tags": [],
            "needs_background": "light"
          }
        }
      ]
    },
    {
      "cell_type": "code",
      "metadata": {
        "id": "W9ZibjrM1dHW"
      },
      "source": [
        ""
      ],
      "execution_count": null,
      "outputs": []
    }
  ]
}